{
 "cells": [
  {
   "cell_type": "markdown",
   "metadata": {},
   "source": [
    "#### Import the required library packages"
   ]
  },
  {
   "cell_type": "code",
   "execution_count": 2,
   "metadata": {},
   "outputs": [
    {
     "name": "stdout",
     "output_type": "stream",
     "text": [
      "Packages imported!\n"
     ]
    }
   ],
   "source": [
    "import numpy as np\n",
    "import pandas as pd\n",
    "import joblib\n",
    "\n",
    "from sklearn import preprocessing\n",
    "import matplotlib.pyplot as plt \n",
    "plt.rc(\"font\", size=14)\n",
    "import matplotlib.cm as cm\n",
    "import matplotlib.colors as colors\n",
    "\n",
    "from sklearn.linear_model import LogisticRegression\n",
    "from sklearn.linear_model import LinearRegression\n",
    "from sklearn.model_selection import train_test_split\n",
    "from sklearn.feature_selection import SelectFromModel\n",
    "from sklearn import tree\n",
    "from sklearn.tree import DecisionTreeClassifier\n",
    "from sklearn.ensemble import RandomForestClassifier,BaggingClassifier,AdaBoostClassifier,VotingClassifier\n",
    "from sklearn.svm import SVC \n",
    "from sklearn.tree import export_graphviz \n",
    "from sklearn.metrics import mean_squared_error\n",
    "from sklearn.model_selection import GridSearchCV\n",
    "\n",
    "\n",
    "import seaborn as sns\n",
    "sns.set(style=\"white\")\n",
    "sns.set(style=\"whitegrid\", color_codes=True)\n",
    "\n",
    "print('Packages imported!')"
   ]
  },
  {
   "cell_type": "markdown",
   "metadata": {},
   "source": [
    "## 1. HR Analytics <a id='hr_header' /> "
   ]
  },
  {
   "cell_type": "markdown",
   "metadata": {},
   "source": [
    "1. [Load and Sample the data](#load)\n",
    "2. [Feature Selection](#feature)\n",
    "2. [Build and Tune Models](#build)\n",
    "3. [Create an Ensemble Model and Evaluate](#evaluate)\n",
    "4. [Summary](#summary)"
   ]
  },
  {
   "cell_type": "markdown",
   "metadata": {},
   "source": [
    "### 1.1 Load and Sample the data <a id='load' /> "
   ]
  },
  {
   "cell_type": "markdown",
   "metadata": {},
   "source": [
    "#### 1.1.1 Load cleansed HR Analytics dataset"
   ]
  },
  {
   "cell_type": "code",
   "execution_count": 3,
   "metadata": {},
   "outputs": [
    {
     "data": {
      "text/html": [
       "<div>\n",
       "<style scoped>\n",
       "    .dataframe tbody tr th:only-of-type {\n",
       "        vertical-align: middle;\n",
       "    }\n",
       "\n",
       "    .dataframe tbody tr th {\n",
       "        vertical-align: top;\n",
       "    }\n",
       "\n",
       "    .dataframe thead th {\n",
       "        text-align: right;\n",
       "    }\n",
       "</style>\n",
       "<table border=\"1\" class=\"dataframe\">\n",
       "  <thead>\n",
       "    <tr style=\"text-align: right;\">\n",
       "      <th></th>\n",
       "      <th>no_of_trainings</th>\n",
       "      <th>age</th>\n",
       "      <th>previous_year_rating</th>\n",
       "      <th>length_of_service</th>\n",
       "      <th>KPIs_met &gt;80%</th>\n",
       "      <th>awards_won?</th>\n",
       "      <th>avg_training_score</th>\n",
       "      <th>is_promoted</th>\n",
       "      <th>Analytics</th>\n",
       "      <th>Finance</th>\n",
       "      <th>...</th>\n",
       "      <th>region_5</th>\n",
       "      <th>region_6</th>\n",
       "      <th>region_7</th>\n",
       "      <th>region_8</th>\n",
       "      <th>region_9</th>\n",
       "      <th>Bachelor's</th>\n",
       "      <th>Below Secondary</th>\n",
       "      <th>Master's &amp; above</th>\n",
       "      <th>f</th>\n",
       "      <th>m</th>\n",
       "    </tr>\n",
       "  </thead>\n",
       "  <tbody>\n",
       "    <tr>\n",
       "      <th>0</th>\n",
       "      <td>1</td>\n",
       "      <td>0.375</td>\n",
       "      <td>5.0</td>\n",
       "      <td>0.060606</td>\n",
       "      <td>1</td>\n",
       "      <td>0</td>\n",
       "      <td>0.155172</td>\n",
       "      <td>1</td>\n",
       "      <td>0</td>\n",
       "      <td>0</td>\n",
       "      <td>...</td>\n",
       "      <td>0</td>\n",
       "      <td>0</td>\n",
       "      <td>1</td>\n",
       "      <td>0</td>\n",
       "      <td>0</td>\n",
       "      <td>1</td>\n",
       "      <td>0</td>\n",
       "      <td>0</td>\n",
       "      <td>1</td>\n",
       "      <td>0</td>\n",
       "    </tr>\n",
       "    <tr>\n",
       "      <th>1</th>\n",
       "      <td>1</td>\n",
       "      <td>0.325</td>\n",
       "      <td>5.0</td>\n",
       "      <td>0.151515</td>\n",
       "      <td>1</td>\n",
       "      <td>0</td>\n",
       "      <td>0.172414</td>\n",
       "      <td>1</td>\n",
       "      <td>0</td>\n",
       "      <td>0</td>\n",
       "      <td>...</td>\n",
       "      <td>0</td>\n",
       "      <td>0</td>\n",
       "      <td>0</td>\n",
       "      <td>0</td>\n",
       "      <td>0</td>\n",
       "      <td>1</td>\n",
       "      <td>0</td>\n",
       "      <td>0</td>\n",
       "      <td>0</td>\n",
       "      <td>1</td>\n",
       "    </tr>\n",
       "    <tr>\n",
       "      <th>2</th>\n",
       "      <td>1</td>\n",
       "      <td>0.750</td>\n",
       "      <td>4.0</td>\n",
       "      <td>0.484848</td>\n",
       "      <td>1</td>\n",
       "      <td>0</td>\n",
       "      <td>0.103448</td>\n",
       "      <td>1</td>\n",
       "      <td>0</td>\n",
       "      <td>0</td>\n",
       "      <td>...</td>\n",
       "      <td>0</td>\n",
       "      <td>0</td>\n",
       "      <td>0</td>\n",
       "      <td>0</td>\n",
       "      <td>0</td>\n",
       "      <td>0</td>\n",
       "      <td>0</td>\n",
       "      <td>1</td>\n",
       "      <td>0</td>\n",
       "      <td>1</td>\n",
       "    </tr>\n",
       "    <tr>\n",
       "      <th>3</th>\n",
       "      <td>1</td>\n",
       "      <td>0.250</td>\n",
       "      <td>3.0</td>\n",
       "      <td>0.181818</td>\n",
       "      <td>1</td>\n",
       "      <td>0</td>\n",
       "      <td>0.741379</td>\n",
       "      <td>1</td>\n",
       "      <td>1</td>\n",
       "      <td>0</td>\n",
       "      <td>...</td>\n",
       "      <td>0</td>\n",
       "      <td>0</td>\n",
       "      <td>0</td>\n",
       "      <td>0</td>\n",
       "      <td>0</td>\n",
       "      <td>1</td>\n",
       "      <td>0</td>\n",
       "      <td>0</td>\n",
       "      <td>0</td>\n",
       "      <td>1</td>\n",
       "    </tr>\n",
       "    <tr>\n",
       "      <th>4</th>\n",
       "      <td>1</td>\n",
       "      <td>0.350</td>\n",
       "      <td>5.0</td>\n",
       "      <td>0.181818</td>\n",
       "      <td>1</td>\n",
       "      <td>0</td>\n",
       "      <td>0.637931</td>\n",
       "      <td>1</td>\n",
       "      <td>0</td>\n",
       "      <td>0</td>\n",
       "      <td>...</td>\n",
       "      <td>0</td>\n",
       "      <td>0</td>\n",
       "      <td>0</td>\n",
       "      <td>0</td>\n",
       "      <td>0</td>\n",
       "      <td>0</td>\n",
       "      <td>0</td>\n",
       "      <td>1</td>\n",
       "      <td>0</td>\n",
       "      <td>1</td>\n",
       "    </tr>\n",
       "    <tr>\n",
       "      <th>5</th>\n",
       "      <td>1</td>\n",
       "      <td>0.450</td>\n",
       "      <td>4.0</td>\n",
       "      <td>0.030303</td>\n",
       "      <td>1</td>\n",
       "      <td>0</td>\n",
       "      <td>0.137931</td>\n",
       "      <td>1</td>\n",
       "      <td>0</td>\n",
       "      <td>0</td>\n",
       "      <td>...</td>\n",
       "      <td>0</td>\n",
       "      <td>0</td>\n",
       "      <td>0</td>\n",
       "      <td>0</td>\n",
       "      <td>0</td>\n",
       "      <td>0</td>\n",
       "      <td>0</td>\n",
       "      <td>1</td>\n",
       "      <td>0</td>\n",
       "      <td>1</td>\n",
       "    </tr>\n",
       "    <tr>\n",
       "      <th>6</th>\n",
       "      <td>1</td>\n",
       "      <td>0.250</td>\n",
       "      <td>3.0</td>\n",
       "      <td>0.060606</td>\n",
       "      <td>0</td>\n",
       "      <td>0</td>\n",
       "      <td>0.293103</td>\n",
       "      <td>1</td>\n",
       "      <td>0</td>\n",
       "      <td>0</td>\n",
       "      <td>...</td>\n",
       "      <td>0</td>\n",
       "      <td>0</td>\n",
       "      <td>0</td>\n",
       "      <td>0</td>\n",
       "      <td>0</td>\n",
       "      <td>1</td>\n",
       "      <td>0</td>\n",
       "      <td>0</td>\n",
       "      <td>0</td>\n",
       "      <td>1</td>\n",
       "    </tr>\n",
       "    <tr>\n",
       "      <th>7</th>\n",
       "      <td>1</td>\n",
       "      <td>0.550</td>\n",
       "      <td>5.0</td>\n",
       "      <td>0.303030</td>\n",
       "      <td>1</td>\n",
       "      <td>0</td>\n",
       "      <td>0.327586</td>\n",
       "      <td>1</td>\n",
       "      <td>0</td>\n",
       "      <td>0</td>\n",
       "      <td>...</td>\n",
       "      <td>0</td>\n",
       "      <td>0</td>\n",
       "      <td>0</td>\n",
       "      <td>0</td>\n",
       "      <td>0</td>\n",
       "      <td>0</td>\n",
       "      <td>0</td>\n",
       "      <td>1</td>\n",
       "      <td>1</td>\n",
       "      <td>0</td>\n",
       "    </tr>\n",
       "    <tr>\n",
       "      <th>8</th>\n",
       "      <td>1</td>\n",
       "      <td>0.300</td>\n",
       "      <td>5.0</td>\n",
       "      <td>0.060606</td>\n",
       "      <td>1</td>\n",
       "      <td>0</td>\n",
       "      <td>0.482759</td>\n",
       "      <td>1</td>\n",
       "      <td>0</td>\n",
       "      <td>0</td>\n",
       "      <td>...</td>\n",
       "      <td>0</td>\n",
       "      <td>0</td>\n",
       "      <td>1</td>\n",
       "      <td>0</td>\n",
       "      <td>0</td>\n",
       "      <td>0</td>\n",
       "      <td>0</td>\n",
       "      <td>1</td>\n",
       "      <td>0</td>\n",
       "      <td>1</td>\n",
       "    </tr>\n",
       "    <tr>\n",
       "      <th>9</th>\n",
       "      <td>1</td>\n",
       "      <td>0.275</td>\n",
       "      <td>5.0</td>\n",
       "      <td>0.090909</td>\n",
       "      <td>1</td>\n",
       "      <td>0</td>\n",
       "      <td>0.379310</td>\n",
       "      <td>1</td>\n",
       "      <td>0</td>\n",
       "      <td>0</td>\n",
       "      <td>...</td>\n",
       "      <td>0</td>\n",
       "      <td>0</td>\n",
       "      <td>0</td>\n",
       "      <td>0</td>\n",
       "      <td>0</td>\n",
       "      <td>1</td>\n",
       "      <td>0</td>\n",
       "      <td>0</td>\n",
       "      <td>0</td>\n",
       "      <td>1</td>\n",
       "    </tr>\n",
       "  </tbody>\n",
       "</table>\n",
       "<p>10 rows × 56 columns</p>\n",
       "</div>"
      ],
      "text/plain": [
       "   no_of_trainings    age  previous_year_rating  length_of_service  \\\n",
       "0                1  0.375                   5.0           0.060606   \n",
       "1                1  0.325                   5.0           0.151515   \n",
       "2                1  0.750                   4.0           0.484848   \n",
       "3                1  0.250                   3.0           0.181818   \n",
       "4                1  0.350                   5.0           0.181818   \n",
       "5                1  0.450                   4.0           0.030303   \n",
       "6                1  0.250                   3.0           0.060606   \n",
       "7                1  0.550                   5.0           0.303030   \n",
       "8                1  0.300                   5.0           0.060606   \n",
       "9                1  0.275                   5.0           0.090909   \n",
       "\n",
       "   KPIs_met >80%  awards_won?  avg_training_score  is_promoted  Analytics  \\\n",
       "0              1            0            0.155172            1          0   \n",
       "1              1            0            0.172414            1          0   \n",
       "2              1            0            0.103448            1          0   \n",
       "3              1            0            0.741379            1          1   \n",
       "4              1            0            0.637931            1          0   \n",
       "5              1            0            0.137931            1          0   \n",
       "6              0            0            0.293103            1          0   \n",
       "7              1            0            0.327586            1          0   \n",
       "8              1            0            0.482759            1          0   \n",
       "9              1            0            0.379310            1          0   \n",
       "\n",
       "   Finance  ...  region_5  region_6  region_7  region_8  region_9  Bachelor's  \\\n",
       "0        0  ...         0         0         1         0         0           1   \n",
       "1        0  ...         0         0         0         0         0           1   \n",
       "2        0  ...         0         0         0         0         0           0   \n",
       "3        0  ...         0         0         0         0         0           1   \n",
       "4        0  ...         0         0         0         0         0           0   \n",
       "5        0  ...         0         0         0         0         0           0   \n",
       "6        0  ...         0         0         0         0         0           1   \n",
       "7        0  ...         0         0         0         0         0           0   \n",
       "8        0  ...         0         0         1         0         0           0   \n",
       "9        0  ...         0         0         0         0         0           1   \n",
       "\n",
       "   Below Secondary  Master's & above  f  m  \n",
       "0                0                 0  1  0  \n",
       "1                0                 0  0  1  \n",
       "2                0                 1  0  1  \n",
       "3                0                 0  0  1  \n",
       "4                0                 1  0  1  \n",
       "5                0                 1  0  1  \n",
       "6                0                 0  0  1  \n",
       "7                0                 1  1  0  \n",
       "8                0                 1  0  1  \n",
       "9                0                 0  0  1  \n",
       "\n",
       "[10 rows x 56 columns]"
      ]
     },
     "execution_count": 3,
     "metadata": {},
     "output_type": "execute_result"
    }
   ],
   "source": [
    "df_hr = pd.read_csv('hr_data_new.csv', header=0)\n",
    "df_hr.head(10)"
   ]
  },
  {
   "cell_type": "code",
   "execution_count": 4,
   "metadata": {},
   "outputs": [],
   "source": [
    "# Set the \"is_promoted\" as target/model output and the rest features as model inputs\n",
    "y_data = df_hr['is_promoted']\n",
    "x_data = df_hr.drop('is_promoted',axis=1)"
   ]
  },
  {
   "cell_type": "code",
   "execution_count": 5,
   "metadata": {},
   "outputs": [],
   "source": [
    "# Split the data into training, validation and testing data\n",
    "x_train, x_test, y_train, y_test = train_test_split(x_data, y_data, test_size=0.4, random_state=2)\n",
    "x_val, x_test, y_val, y_test = train_test_split(x_test, y_test, test_size=0.5, random_state=2)"
   ]
  },
  {
   "cell_type": "code",
   "execution_count": 6,
   "metadata": {},
   "outputs": [
    {
     "name": "stdout",
     "output_type": "stream",
     "text": [
      "0.6\n",
      "0.2\n",
      "0.2\n"
     ]
    }
   ],
   "source": [
    "# Verify that data split is successful\n",
    "for data in (y_train, y_val, y_test):\n",
    "    print(round(len(data) / len(y_data), 2))"
   ]
  },
  {
   "cell_type": "markdown",
   "metadata": {},
   "source": [
    "HR Analytics dataset is split into 60% for training, 20% for validation and 20% for testing"
   ]
  },
  {
   "cell_type": "markdown",
   "metadata": {},
   "source": [
    "#### 1.1.2 Split and store HR Analytics data as CSV files"
   ]
  },
  {
   "cell_type": "code",
   "execution_count": 7,
   "metadata": {},
   "outputs": [],
   "source": [
    "x_train.to_csv('C:/Users/Ervin/Desktop/NP 2019-2020/(FINAL SEM) Business Analytics/Predictive Analytics/Assignment 1 + 2/HRAnalyticsSplit/train_HR_features.csv',index=False)\n",
    "x_val.to_csv('C:/Users/Ervin/Desktop/NP 2019-2020/(FINAL SEM) Business Analytics/Predictive Analytics/Assignment 1 + 2/HRAnalyticsSplit/val_HR_features.csv',index=False)\n",
    "x_test.to_csv('C:/Users/Ervin/Desktop/NP 2019-2020/(FINAL SEM) Business Analytics/Predictive Analytics/Assignment 1 + 2/HRAnalyticsSplit/test_HR_features.csv',index=False)\n",
    "\n",
    "y_train.to_csv('C:/Users/Ervin/Desktop/NP 2019-2020/(FINAL SEM) Business Analytics/Predictive Analytics/Assignment 1 + 2/HRAnalyticsSplit/train_HR_labels.csv',index=False)\n",
    "y_val.to_csv('C:/Users/Ervin/Desktop/NP 2019-2020/(FINAL SEM) Business Analytics/Predictive Analytics/Assignment 1 + 2/HRAnalyticsSplit/val_HR_labels.csv',index=False)\n",
    "y_test.to_csv('C:/Users/Ervin/Desktop/NP 2019-2020/(FINAL SEM) Business Analytics/Predictive Analytics/Assignment 1 + 2/HRAnalyticsSplit/test_HR_labels.csv',index=False)"
   ]
  },
  {
   "cell_type": "code",
   "execution_count": 8,
   "metadata": {},
   "outputs": [],
   "source": [
    "# Read split HR Analytics data\n",
    "tr_features = pd.read_csv('C:/Users/Ervin/Desktop/NP 2019-2020/(FINAL SEM) Business Analytics/Predictive Analytics/Assignment 1 + 2/HRAnalyticsSplit/train_HR_features.csv')\n",
    "val_features = pd.read_csv('C:/Users/Ervin/Desktop/NP 2019-2020/(FINAL SEM) Business Analytics/Predictive Analytics/Assignment 1 + 2/HRAnalyticsSplit/val_HR_features.csv')\n",
    "test_features = pd.read_csv('C:/Users/Ervin/Desktop/NP 2019-2020/(FINAL SEM) Business Analytics/Predictive Analytics/Assignment 1 + 2/HRAnalyticsSplit/test_HR_features.csv')\n",
    "\n",
    "tr_labels = pd.read_csv('C:/Users/Ervin/Desktop/NP 2019-2020/(FINAL SEM) Business Analytics/Predictive Analytics/Assignment 1 + 2/HRAnalyticsSplit/train_HR_labels.csv')\n",
    "val_labels = pd.read_csv('C:/Users/Ervin/Desktop/NP 2019-2020/(FINAL SEM) Business Analytics/Predictive Analytics/Assignment 1 + 2/HRAnalyticsSplit/val_HR_labels.csv')\n",
    "test_labels = pd.read_csv('C:/Users/Ervin/Desktop/NP 2019-2020/(FINAL SEM) Business Analytics/Predictive Analytics/Assignment 1 + 2/HRAnalyticsSplit/test_HR_labels.csv')"
   ]
  },
  {
   "cell_type": "markdown",
   "metadata": {},
   "source": [
    "[Back to Top ^](#hr_header)"
   ]
  },
  {
   "cell_type": "markdown",
   "metadata": {},
   "source": [
    "### 1.2 Feature Selection<a id='feature' /> "
   ]
  },
  {
   "cell_type": "markdown",
   "metadata": {},
   "source": [
    "#### Build a CART model to identify high importance features for the HR Analytics dataset"
   ]
  },
  {
   "cell_type": "code",
   "execution_count": 1,
   "metadata": {},
   "outputs": [],
   "source": [
    "# Define Hyperparameter Tuning Function\n",
    "def print_results(results):\n",
    "    print('Best Parameters: {}\\n'.format(results.best_params_))\n",
    "    \n",
    "    means = results.cv_results_['mean_test_score']\n",
    "    stds = results.cv_results_['std_test_score']\n",
    "    for mean, std, params in zip(means,stds, results.cv_results_['params']):\n",
    "        print('{} (+/-{}) for {}'.format(round(mean, 3),round(std * 2,3), params))"
   ]
  },
  {
   "cell_type": "code",
   "execution_count": 9,
   "metadata": {},
   "outputs": [
    {
     "name": "stdout",
     "output_type": "stream",
     "text": [
      "0.7906626131792699\n",
      "{'criterion': 'gini', 'max_depth': 8, 'min_samples_leaf': 5, 'min_samples_split': 12}\n"
     ]
    }
   ],
   "source": [
    "# Use GridSearch to find the best combination of model hyperparameters\n",
    "\n",
    "dt = tree.DecisionTreeClassifier(max_depth = 2)\n",
    "param_grid = { \"criterion\" : [\"gini\", \"entropy\"], \"min_samples_leaf\" : [1, 5, 10], \"min_samples_split\" : [2, 4, 8, 10, 12, 14, 16], 'max_depth' : [2,3,4,5,6,7,8]}\n",
    "\n",
    "gs = GridSearchCV(dt, param_grid=param_grid, scoring='accuracy', cv= 10, n_jobs=-1)\n",
    "# cv: number of partitions for cross validation\n",
    "# n_jobs: number of jobs to run in parallel, -1 means using all processors\n",
    "\n",
    "gs = gs.fit(tr_features, tr_labels)\n",
    "\n",
    "print(gs.best_score_)\n",
    "print(gs.best_params_)"
   ]
  },
  {
   "cell_type": "code",
   "execution_count": 10,
   "metadata": {},
   "outputs": [
    {
     "data": {
      "text/plain": [
       "DecisionTreeClassifier(ccp_alpha=0.0, class_weight=None, criterion='gini',\n",
       "                       max_depth=5, max_features=None, max_leaf_nodes=None,\n",
       "                       min_impurity_decrease=0.0, min_impurity_split=None,\n",
       "                       min_samples_leaf=1, min_samples_split=2,\n",
       "                       min_weight_fraction_leaf=0.0, presort='deprecated',\n",
       "                       random_state=2, splitter='best')"
      ]
     },
     "execution_count": 10,
     "metadata": {},
     "output_type": "execute_result"
    }
   ],
   "source": [
    "# Create Decision Tree using the best hyperparameters\n",
    "decision_tree = tree.DecisionTreeClassifier(criterion='gini', max_depth = 5, min_samples_leaf = 1, min_samples_split = 2, random_state=2)\n",
    "decision_tree.fit(tr_features, tr_labels)"
   ]
  },
  {
   "cell_type": "code",
   "execution_count": 11,
   "metadata": {},
   "outputs": [],
   "source": [
    "# Export our trained model as a .dot file\n",
    "export_graphviz(decision_tree,\n",
    "                out_file=\"./tree.dot\",\n",
    "                max_depth = 5 ,\n",
    "                impurity = True,\n",
    "                feature_names = list(df_hr.drop('is_promoted',axis=1)),\n",
    "                class_names = ['Not Promoted', 'Promoted'],\n",
    "                rounded = True,\n",
    "                filled= True )"
   ]
  },
  {
   "cell_type": "code",
   "execution_count": 12,
   "metadata": {},
   "outputs": [],
   "source": [
    "#Convert the .dot file to .png file and displayed in the below Markdown cell\n",
    "!dot -Tpng tree.dot -o tree1.png"
   ]
  },
  {
   "attachments": {
    "tree1.png": {
     "image/png": "[encoded data removed]"
    }
   },
   "cell_type": "markdown",
   "metadata": {},
   "source": [
    "![tree1.png](attachment:tree1.png)"
   ]
  },
  {
   "cell_type": "markdown",
   "metadata": {},
   "source": [
    "#### Initial CART accuracy for the HR Analytics dataset"
   ]
  },
  {
   "cell_type": "code",
   "execution_count": 13,
   "metadata": {},
   "outputs": [
    {
     "name": "stdout",
     "output_type": "stream",
     "text": [
      "CART training accuracy is 0.7798345805435211\n",
      "CART testing accuracy is 0.7672770230360307\n"
     ]
    }
   ],
   "source": [
    "print('CART training accuracy is', decision_tree.score(tr_features, tr_labels))\n",
    "print('CART testing accuracy is', decision_tree.score(test_features, test_labels))"
   ]
  },
  {
   "cell_type": "markdown",
   "metadata": {},
   "source": [
    "#### 1.2.1a Random Forest - Ensemble of Decision Trees for the HR Analytics dataset"
   ]
  },
  {
   "cell_type": "markdown",
   "metadata": {},
   "source": [
    "Although a Decision Tree or CART allows us to quickly see important variables, the Random Forest model allows for a more robust system of selection owing to its ability to build independent Decision Trees and aggregate them in order to identify top features.\n",
    "\n",
    "Random Forest allows the quick dataset benchmarking and the identification of important predictor variables through a majority voting mechanism based on gini impurity reduction or information gain for classification problems. \n",
    "\n",
    "Hence, we will use this instead of the CART."
   ]
  },
  {
   "cell_type": "code",
   "execution_count": 14,
   "metadata": {},
   "outputs": [
    {
     "name": "stdout",
     "output_type": "stream",
     "text": [
      "Best Parameters: {'max_depth': 32, 'n_estimators': 500}\n",
      "\n",
      "0.664 (+/-0.059) for {'max_depth': 2, 'n_estimators': 5}\n",
      "0.729 (+/-0.026) for {'max_depth': 2, 'n_estimators': 50}\n",
      "0.722 (+/-0.03) for {'max_depth': 2, 'n_estimators': 100}\n",
      "0.728 (+/-0.019) for {'max_depth': 2, 'n_estimators': 500}\n",
      "0.707 (+/-0.038) for {'max_depth': 4, 'n_estimators': 5}\n",
      "0.744 (+/-0.025) for {'max_depth': 4, 'n_estimators': 50}\n",
      "0.747 (+/-0.014) for {'max_depth': 4, 'n_estimators': 100}\n",
      "0.749 (+/-0.027) for {'max_depth': 4, 'n_estimators': 500}\n",
      "0.732 (+/-0.041) for {'max_depth': 6, 'n_estimators': 5}\n",
      "0.759 (+/-0.025) for {'max_depth': 6, 'n_estimators': 50}\n",
      "0.761 (+/-0.025) for {'max_depth': 6, 'n_estimators': 100}\n",
      "0.761 (+/-0.02) for {'max_depth': 6, 'n_estimators': 500}\n",
      "0.752 (+/-0.026) for {'max_depth': 8, 'n_estimators': 5}\n",
      "0.763 (+/-0.025) for {'max_depth': 8, 'n_estimators': 50}\n",
      "0.764 (+/-0.017) for {'max_depth': 8, 'n_estimators': 100}\n",
      "0.764 (+/-0.017) for {'max_depth': 8, 'n_estimators': 500}\n",
      "0.753 (+/-0.022) for {'max_depth': 16, 'n_estimators': 5}\n",
      "0.788 (+/-0.023) for {'max_depth': 16, 'n_estimators': 50}\n",
      "0.789 (+/-0.015) for {'max_depth': 16, 'n_estimators': 100}\n",
      "0.787 (+/-0.012) for {'max_depth': 16, 'n_estimators': 500}\n",
      "0.752 (+/-0.006) for {'max_depth': 32, 'n_estimators': 5}\n",
      "0.786 (+/-0.019) for {'max_depth': 32, 'n_estimators': 50}\n",
      "0.788 (+/-0.015) for {'max_depth': 32, 'n_estimators': 100}\n",
      "0.792 (+/-0.018) for {'max_depth': 32, 'n_estimators': 500}\n",
      "0.76 (+/-0.014) for {'max_depth': 64, 'n_estimators': 5}\n",
      "0.782 (+/-0.018) for {'max_depth': 64, 'n_estimators': 50}\n",
      "0.788 (+/-0.012) for {'max_depth': 64, 'n_estimators': 100}\n",
      "0.791 (+/-0.015) for {'max_depth': 64, 'n_estimators': 500}\n",
      "0.766 (+/-0.029) for {'max_depth': None, 'n_estimators': 5}\n",
      "0.784 (+/-0.015) for {'max_depth': None, 'n_estimators': 50}\n",
      "0.788 (+/-0.018) for {'max_depth': None, 'n_estimators': 100}\n",
      "0.79 (+/-0.012) for {'max_depth': None, 'n_estimators': 500}\n"
     ]
    }
   ],
   "source": [
    "# Using 5 K-folds cross-validation, we will use GridSearchCV to tune the max_depth and n_estimator parameters for the RF model\n",
    "rf = RandomForestClassifier()\n",
    "parameters = {\n",
    "    'n_estimators': [5, 50, 100, 500],\n",
    "    'max_depth': [2, 4, 6, 8, 16, 32, 64, None]\n",
    "\n",
    "}\n",
    "\n",
    "cv = GridSearchCV(rf, parameters, cv=5)\n",
    "cv.fit(tr_features,tr_labels.values.ravel())\n",
    "\n",
    "print_results(cv)"
   ]
  },
  {
   "cell_type": "markdown",
   "metadata": {},
   "source": [
    "The best max_depth and n_estimator hyperparameters for our RandomForest Model is 32 and 500, respectively."
   ]
  },
  {
   "cell_type": "code",
   "execution_count": 15,
   "metadata": {
    "scrolled": true
   },
   "outputs": [
    {
     "name": "stdout",
     "output_type": "stream",
     "text": [
      "rf training accuracy is:  1.0\n",
      "rf testing accuracy is:  0.7991730655640874\n"
     ]
    }
   ],
   "source": [
    "# Checking the RF accuracy by using the Score function\n",
    "print('rf training accuracy is: ',cv.score(tr_features,tr_labels))\n",
    "print('rf testing accuracy is: ',cv.score(test_features,test_labels))"
   ]
  },
  {
   "cell_type": "markdown",
   "metadata": {},
   "source": [
    "The perfect training accuracy score but significantly lower testing accuracy indicates significant overfitting."
   ]
  },
  {
   "cell_type": "markdown",
   "metadata": {},
   "source": [
    "#### 1.2.1b Feature Selection - Trees Classifiers (Filter Method) and Recursive Feature Elimination (Wrapper Method)"
   ]
  },
  {
   "cell_type": "markdown",
   "metadata": {},
   "source": [
    "#### Random Trees"
   ]
  },
  {
   "cell_type": "code",
   "execution_count": 16,
   "metadata": {
    "scrolled": true
   },
   "outputs": [
    {
     "data": {
      "text/html": [
       "<div>\n",
       "<style scoped>\n",
       "    .dataframe tbody tr th:only-of-type {\n",
       "        vertical-align: middle;\n",
       "    }\n",
       "\n",
       "    .dataframe tbody tr th {\n",
       "        vertical-align: top;\n",
       "    }\n",
       "\n",
       "    .dataframe thead th {\n",
       "        text-align: right;\n",
       "    }\n",
       "</style>\n",
       "<table border=\"1\" class=\"dataframe\">\n",
       "  <thead>\n",
       "    <tr style=\"text-align: right;\">\n",
       "      <th></th>\n",
       "      <th>importance</th>\n",
       "    </tr>\n",
       "  </thead>\n",
       "  <tbody>\n",
       "    <tr>\n",
       "      <th>avg_training_score</th>\n",
       "      <td>0.223245</td>\n",
       "    </tr>\n",
       "    <tr>\n",
       "      <th>KPIs_met &gt;80%</th>\n",
       "      <td>0.133598</td>\n",
       "    </tr>\n",
       "    <tr>\n",
       "      <th>age</th>\n",
       "      <td>0.106307</td>\n",
       "    </tr>\n",
       "    <tr>\n",
       "      <th>previous_year_rating</th>\n",
       "      <td>0.099719</td>\n",
       "    </tr>\n",
       "    <tr>\n",
       "      <th>length_of_service</th>\n",
       "      <td>0.088628</td>\n",
       "    </tr>\n",
       "    <tr>\n",
       "      <th>awards_won?</th>\n",
       "      <td>0.032421</td>\n",
       "    </tr>\n",
       "    <tr>\n",
       "      <th>Sales &amp; Marketing</th>\n",
       "      <td>0.026450</td>\n",
       "    </tr>\n",
       "    <tr>\n",
       "      <th>no_of_trainings</th>\n",
       "      <td>0.021968</td>\n",
       "    </tr>\n",
       "    <tr>\n",
       "      <th>Operations</th>\n",
       "      <td>0.017620</td>\n",
       "    </tr>\n",
       "    <tr>\n",
       "      <th>region_2</th>\n",
       "      <td>0.013299</td>\n",
       "    </tr>\n",
       "    <tr>\n",
       "      <th>m</th>\n",
       "      <td>0.013254</td>\n",
       "    </tr>\n",
       "    <tr>\n",
       "      <th>f</th>\n",
       "      <td>0.013214</td>\n",
       "    </tr>\n",
       "    <tr>\n",
       "      <th>Procurement</th>\n",
       "      <td>0.012668</td>\n",
       "    </tr>\n",
       "    <tr>\n",
       "      <th>region_22</th>\n",
       "      <td>0.012221</td>\n",
       "    </tr>\n",
       "    <tr>\n",
       "      <th>Analytics</th>\n",
       "      <td>0.011507</td>\n",
       "    </tr>\n",
       "    <tr>\n",
       "      <th>Technology</th>\n",
       "      <td>0.011014</td>\n",
       "    </tr>\n",
       "    <tr>\n",
       "      <th>region_7</th>\n",
       "      <td>0.010427</td>\n",
       "    </tr>\n",
       "    <tr>\n",
       "      <th>Bachelor's</th>\n",
       "      <td>0.009017</td>\n",
       "    </tr>\n",
       "    <tr>\n",
       "      <th>Master's &amp; above</th>\n",
       "      <td>0.008680</td>\n",
       "    </tr>\n",
       "    <tr>\n",
       "      <th>region_15</th>\n",
       "      <td>0.008316</td>\n",
       "    </tr>\n",
       "    <tr>\n",
       "      <th>region_4</th>\n",
       "      <td>0.008060</td>\n",
       "    </tr>\n",
       "    <tr>\n",
       "      <th>Finance</th>\n",
       "      <td>0.007934</td>\n",
       "    </tr>\n",
       "    <tr>\n",
       "      <th>region_26</th>\n",
       "      <td>0.007266</td>\n",
       "    </tr>\n",
       "    <tr>\n",
       "      <th>region_13</th>\n",
       "      <td>0.007006</td>\n",
       "    </tr>\n",
       "    <tr>\n",
       "      <th>region_27</th>\n",
       "      <td>0.005836</td>\n",
       "    </tr>\n",
       "    <tr>\n",
       "      <th>HR</th>\n",
       "      <td>0.005663</td>\n",
       "    </tr>\n",
       "    <tr>\n",
       "      <th>region_28</th>\n",
       "      <td>0.005419</td>\n",
       "    </tr>\n",
       "    <tr>\n",
       "      <th>region_23</th>\n",
       "      <td>0.004860</td>\n",
       "    </tr>\n",
       "    <tr>\n",
       "      <th>region_31</th>\n",
       "      <td>0.004491</td>\n",
       "    </tr>\n",
       "    <tr>\n",
       "      <th>region_11</th>\n",
       "      <td>0.004455</td>\n",
       "    </tr>\n",
       "    <tr>\n",
       "      <th>R&amp;D</th>\n",
       "      <td>0.004404</td>\n",
       "    </tr>\n",
       "    <tr>\n",
       "      <th>region_17</th>\n",
       "      <td>0.004147</td>\n",
       "    </tr>\n",
       "    <tr>\n",
       "      <th>region_16</th>\n",
       "      <td>0.003949</td>\n",
       "    </tr>\n",
       "    <tr>\n",
       "      <th>region_20</th>\n",
       "      <td>0.003908</td>\n",
       "    </tr>\n",
       "    <tr>\n",
       "      <th>region_32</th>\n",
       "      <td>0.003595</td>\n",
       "    </tr>\n",
       "    <tr>\n",
       "      <th>Legal</th>\n",
       "      <td>0.003558</td>\n",
       "    </tr>\n",
       "    <tr>\n",
       "      <th>region_25</th>\n",
       "      <td>0.003506</td>\n",
       "    </tr>\n",
       "    <tr>\n",
       "      <th>region_14</th>\n",
       "      <td>0.003468</td>\n",
       "    </tr>\n",
       "    <tr>\n",
       "      <th>region_29</th>\n",
       "      <td>0.003457</td>\n",
       "    </tr>\n",
       "    <tr>\n",
       "      <th>region_8</th>\n",
       "      <td>0.003233</td>\n",
       "    </tr>\n",
       "    <tr>\n",
       "      <th>region_1</th>\n",
       "      <td>0.003209</td>\n",
       "    </tr>\n",
       "    <tr>\n",
       "      <th>region_19</th>\n",
       "      <td>0.003194</td>\n",
       "    </tr>\n",
       "    <tr>\n",
       "      <th>region_5</th>\n",
       "      <td>0.003100</td>\n",
       "    </tr>\n",
       "    <tr>\n",
       "      <th>region_30</th>\n",
       "      <td>0.003009</td>\n",
       "    </tr>\n",
       "    <tr>\n",
       "      <th>region_10</th>\n",
       "      <td>0.002670</td>\n",
       "    </tr>\n",
       "    <tr>\n",
       "      <th>region_6</th>\n",
       "      <td>0.001914</td>\n",
       "    </tr>\n",
       "    <tr>\n",
       "      <th>region_21</th>\n",
       "      <td>0.001906</td>\n",
       "    </tr>\n",
       "    <tr>\n",
       "      <th>region_24</th>\n",
       "      <td>0.001652</td>\n",
       "    </tr>\n",
       "    <tr>\n",
       "      <th>region_3</th>\n",
       "      <td>0.001639</td>\n",
       "    </tr>\n",
       "    <tr>\n",
       "      <th>region_12</th>\n",
       "      <td>0.001498</td>\n",
       "    </tr>\n",
       "    <tr>\n",
       "      <th>region_33</th>\n",
       "      <td>0.001313</td>\n",
       "    </tr>\n",
       "    <tr>\n",
       "      <th>Below Secondary</th>\n",
       "      <td>0.001236</td>\n",
       "    </tr>\n",
       "    <tr>\n",
       "      <th>region_9</th>\n",
       "      <td>0.000972</td>\n",
       "    </tr>\n",
       "    <tr>\n",
       "      <th>region_34</th>\n",
       "      <td>0.000900</td>\n",
       "    </tr>\n",
       "    <tr>\n",
       "      <th>region_18</th>\n",
       "      <td>0.000005</td>\n",
       "    </tr>\n",
       "  </tbody>\n",
       "</table>\n",
       "</div>"
      ],
      "text/plain": [
       "                      importance\n",
       "avg_training_score      0.223245\n",
       "KPIs_met >80%           0.133598\n",
       "age                     0.106307\n",
       "previous_year_rating    0.099719\n",
       "length_of_service       0.088628\n",
       "awards_won?             0.032421\n",
       "Sales & Marketing       0.026450\n",
       "no_of_trainings         0.021968\n",
       "Operations              0.017620\n",
       "region_2                0.013299\n",
       "m                       0.013254\n",
       "f                       0.013214\n",
       "Procurement             0.012668\n",
       "region_22               0.012221\n",
       "Analytics               0.011507\n",
       "Technology              0.011014\n",
       "region_7                0.010427\n",
       "Bachelor's              0.009017\n",
       "Master's & above        0.008680\n",
       "region_15               0.008316\n",
       "region_4                0.008060\n",
       "Finance                 0.007934\n",
       "region_26               0.007266\n",
       "region_13               0.007006\n",
       "region_27               0.005836\n",
       "HR                      0.005663\n",
       "region_28               0.005419\n",
       "region_23               0.004860\n",
       "region_31               0.004491\n",
       "region_11               0.004455\n",
       "R&D                     0.004404\n",
       "region_17               0.004147\n",
       "region_16               0.003949\n",
       "region_20               0.003908\n",
       "region_32               0.003595\n",
       "Legal                   0.003558\n",
       "region_25               0.003506\n",
       "region_14               0.003468\n",
       "region_29               0.003457\n",
       "region_8                0.003233\n",
       "region_1                0.003209\n",
       "region_19               0.003194\n",
       "region_5                0.003100\n",
       "region_30               0.003009\n",
       "region_10               0.002670\n",
       "region_6                0.001914\n",
       "region_21               0.001906\n",
       "region_24               0.001652\n",
       "region_3                0.001639\n",
       "region_12               0.001498\n",
       "region_33               0.001313\n",
       "Below Secondary         0.001236\n",
       "region_9                0.000972\n",
       "region_34               0.000900\n",
       "region_18               0.000005"
      ]
     },
     "execution_count": 16,
     "metadata": {},
     "output_type": "execute_result"
    }
   ],
   "source": [
    "# Identifying important features using Random Forest\n",
    "feature_importances = pd.DataFrame(cv.best_estimator_.feature_importances_,\n",
    "                                   index = tr_features.columns,\n",
    "                                    columns=['importance']).sort_values('importance',                                                                 \n",
    "                                                                        ascending=False)\n",
    "feature_importances"
   ]
  },
  {
   "cell_type": "markdown",
   "metadata": {},
   "source": [
    "#### Extra Trees Classifiers"
   ]
  },
  {
   "cell_type": "code",
   "execution_count": 17,
   "metadata": {
    "scrolled": true
   },
   "outputs": [
    {
     "name": "stdout",
     "output_type": "stream",
     "text": [
      "[3.10436535e-02 1.07059288e-01 1.07808066e-01 9.75721828e-02\n",
      " 1.33008690e-01 3.74741309e-02 1.96560355e-01 9.68107564e-03\n",
      " 7.48586030e-03 4.94002094e-03 3.54170023e-03 1.51768729e-02\n",
      " 1.47539464e-02 4.19586325e-03 2.07633648e-02 9.46353163e-03\n",
      " 3.42702957e-03 3.37744718e-03 5.01923817e-03 1.69875688e-03\n",
      " 7.42644120e-03 3.80195016e-03 8.95645176e-03 4.33588860e-03\n",
      " 4.33056547e-03 7.35853965e-06 3.31151924e-03 1.29258058e-02\n",
      " 4.20313098e-03 1.80373006e-03 1.11373009e-02 5.05364687e-03\n",
      " 2.17228967e-03 4.08770795e-03 7.33399806e-03 6.16891246e-03\n",
      " 5.86158170e-03 3.93173688e-03 2.01188101e-03 3.47174417e-03\n",
      " 5.37476138e-03 3.28498739e-03 1.70770354e-03 1.18630294e-03\n",
      " 8.89737028e-03 3.21783489e-03 2.10845941e-03 9.58287999e-03\n",
      " 3.74257112e-03 1.32018057e-03 7.04415880e-03 1.72973920e-03\n",
      " 7.11241306e-03 1.33786653e-02 1.39272575e-02]\n"
     ]
    }
   ],
   "source": [
    "# Identifying important features using Extra Trees (another Tree-based model)\n",
    "from sklearn.ensemble import ExtraTreesClassifier\n",
    "\n",
    "model = ExtraTreesClassifier()\n",
    "model.fit(tr_features,tr_labels.values.ravel())\n",
    "print(model.feature_importances_) #use inbuilt class feature_importances of tree based classifiers"
   ]
  },
  {
   "cell_type": "code",
   "execution_count": 18,
   "metadata": {
    "scrolled": true
   },
   "outputs": [
    {
     "data": {
      "image/png": "[encoded data removed]",
      "text/plain": [
       "<Figure size 432x288 with 1 Axes>"
      ]
     },
     "metadata": {},
     "output_type": "display_data"
    }
   ],
   "source": [
    "#plot graph of feature importances for better visualization\n",
    "feat_importances = pd.Series(model.feature_importances_, index=tr_features.columns)\n",
    "feat_importances.nlargest(15).plot(kind='barh')\n",
    "plt.show()"
   ]
  },
  {
   "cell_type": "markdown",
   "metadata": {},
   "source": [
    "Based on an ensemble of 500 independent decision trees, the top 15 features that achieved the highest votes for their importance are:\n",
    "1. avg_training_score\n",
    "2. KPIs_met >80%\n",
    "3. age\n",
    "4. previous_year_rating\n",
    "5. length_of_service\n",
    "6. awards_won?\n",
    "7. Sales & Marketing\n",
    "8. no_of_trainings\n",
    "9. Operations\n",
    "10. region_22\n",
    "11. region_2\n",
    "12. Analytics\n",
    "13. Procurement\n",
    "14. f\n",
    "15. m\n",
    "\n",
    "These features could be used to build a more refined model with improved model accuracy, while reducing dimensionality and complexity."
   ]
  },
  {
   "cell_type": "markdown",
   "metadata": {},
   "source": [
    "#### Recursive Feature Elimination"
   ]
  },
  {
   "cell_type": "code",
   "execution_count": 19,
   "metadata": {},
   "outputs": [
    {
     "name": "stdout",
     "output_type": "stream",
     "text": [
      "[False False False False  True False  True  True False  True False False\n",
      " False  True  True  True False False False False False False False False\n",
      " False False False False False False False False False False False False\n",
      " False False False False False False False False False False False False\n",
      " False False False False False False False]\n",
      "[34  9 27  8  1  4  1  1  3  1  5  2 11  1  1  1 32 21 29 15 40 42 43 49\n",
      " 19 35 25 39 12 14 18 23 30 17 26 45 37 10 36 31 48 13 24  6 16 33 22 20\n",
      " 41  7 44 38 28 46 47]\n"
     ]
    }
   ],
   "source": [
    "from sklearn.feature_selection import RFE\n",
    "\n",
    "model = LogisticRegression(solver='lbfgs',max_iter=7000) # Initializing RFE model\n",
    "rfe = RFE(model, 7) # Transforming data using RFE\n",
    "X_rfe = rfe.fit_transform(x_data,y_data)  # Fitting the data to model\n",
    "model.fit(X_rfe,y_data)\n",
    "\n",
    "print(rfe.support_)\n",
    "print(rfe.ranking_)"
   ]
  },
  {
   "cell_type": "code",
   "execution_count": 20,
   "metadata": {},
   "outputs": [
    {
     "name": "stdout",
     "output_type": "stream",
     "text": [
      "Optimum number of features: 37\n",
      "Score with 37 features: 0.790313\n"
     ]
    }
   ],
   "source": [
    "# No of features\n",
    "nof_list=np.arange(1,55)            \n",
    "high_score=0\n",
    "\n",
    "# Variable to store the optimum features\n",
    "nof=0           \n",
    "score_list =[]\n",
    "for n in range(len(nof_list)):\n",
    "    x_train, x_test, y_train, y_test = train_test_split(x_data, y_data, test_size=0.4, random_state=2)\n",
    "    x_val, x_test, y_val, y_test = train_test_split(x_test, y_test, test_size=0.5, random_state=2)\n",
    "    model = LogisticRegression(solver='lbfgs',max_iter=7000)\n",
    "    rfe = RFE(model,nof_list[n])\n",
    "    X_train_rfe = rfe.fit_transform(x_train,y_train)\n",
    "    X_test_rfe = rfe.transform(x_test)\n",
    "    model.fit(X_train_rfe,y_train)\n",
    "    score = model.score(X_test_rfe,y_test)\n",
    "    score_list.append(score)\n",
    "    if(score>high_score):\n",
    "        high_score = score\n",
    "        nof = nof_list[n]\n",
    "\n",
    "print(\"Optimum number of features: %d\" %nof)   \n",
    "print(\"Score with %d features: %f\" % (nof, high_score))"
   ]
  },
  {
   "cell_type": "code",
   "execution_count": 21,
   "metadata": {},
   "outputs": [
    {
     "name": "stdout",
     "output_type": "stream",
     "text": [
      "Index(['age', 'previous_year_rating', 'length_of_service', 'KPIs_met >80%',\n",
      "       'awards_won?', 'avg_training_score', 'Analytics', 'Finance', 'HR',\n",
      "       'Legal', 'Operations', 'Procurement', 'R&D', 'Sales & Marketing',\n",
      "       'Technology', 'region_10', 'region_11', 'region_12', 'region_17',\n",
      "       'region_19', 'region_20', 'region_21', 'region_22', 'region_23',\n",
      "       'region_24', 'region_25', 'region_26', 'region_29', 'region_30',\n",
      "       'region_32', 'region_33', 'region_34', 'region_4', 'region_6',\n",
      "       'region_7', 'region_9', 'Master's & above'],\n",
      "      dtype='object')\n",
      "LR training accuracy is:  0.7892249527410208\n"
     ]
    }
   ],
   "source": [
    "cols = list(x_data.columns)\n",
    "model = LogisticRegression(solver='lbfgs',max_iter=7000) # Initializing RFE model\n",
    "rfe = RFE(model, 37)             # Transforming data using RFE\n",
    "X_rfe = rfe.fit_transform(x_data,y_data)  # Fitting the data to model\n",
    "model.fit(X_rfe,y_data)\n",
    "temp = pd.Series(rfe.support_,index = cols)\n",
    "selected_features_rfe = temp[temp==True].index\n",
    "\n",
    "print(selected_features_rfe)\n",
    "print('LR training accuracy is: ',model.score(X_rfe,y_data)) "
   ]
  },
  {
   "cell_type": "markdown",
   "metadata": {},
   "source": [
    "Based the findings of these feature selection methods, we will reduce the dimensionality of our dataset to the top 15 features identified. And reassess their accuracy on our training/validation/test sets to see the difference."
   ]
  },
  {
   "cell_type": "markdown",
   "metadata": {},
   "source": [
    "[Back to Top ^](#hr_header)"
   ]
  },
  {
   "cell_type": "markdown",
   "metadata": {},
   "source": [
    "### 1.3 Build and Tune Models<a id='build' /> "
   ]
  },
  {
   "cell_type": "code",
   "execution_count": null,
   "metadata": {},
   "outputs": [],
   "source": [
    "tr_features = tr_features[['age', 'previous_year_rating', 'length_of_service', 'KPIs_met >80%',\n",
    "                            'awards_won?', 'avg_training_score', 'no_of_trainings',\n",
    "                            'Sales & Marketing','region_22','region_2','Operations','Analytics', 'Procurement', \n",
    "                            'f', 'm']]\n",
    "\n",
    "val_features = val_features[['age', 'previous_year_rating', 'length_of_service', 'KPIs_met >80%',\n",
    "                            'awards_won?', 'avg_training_score', 'no_of_trainings',\n",
    "                            'Sales & Marketing','region_22','region_2','Operations','Analytics', 'Procurement', \n",
    "                            'f', 'm']]\n",
    "\n",
    "test_features = test_features[['age', 'previous_year_rating', 'length_of_service', 'KPIs_met >80%',\n",
    "                               'awards_won?', 'avg_training_score', 'no_of_trainings',\n",
    "                               'Sales & Marketing','region_22','region_2','Operations','Analytics', 'Procurement',\n",
    "                               'f', 'm']]"
   ]
  },
  {
   "cell_type": "markdown",
   "metadata": {},
   "source": [
    "#### 1.3.1 Random Forest Classifier for the HR Analytics dataset"
   ]
  },
  {
   "cell_type": "code",
   "execution_count": 23,
   "metadata": {},
   "outputs": [
    {
     "name": "stdout",
     "output_type": "stream",
     "text": [
      "rf training accuracy is:  0.9588420638046475\n",
      "rf validation accuracy is:  0.7920850561134082\n"
     ]
    }
   ],
   "source": [
    "# Reassess the RF R^2 value/Accuracy by using the Score function, following feature selection\n",
    "cv.fit(tr_features,tr_labels.values.ravel())\n",
    "print('rf training accuracy is: ',cv.score(tr_features,tr_labels))\n",
    "print('rf validation accuracy is: ',cv.score(val_features,val_labels))"
   ]
  },
  {
   "cell_type": "markdown",
   "metadata": {},
   "source": [
    "Compared to the initial run of the Random Forest model, the overfitting has been reduced, while validation accuracy has only dropped slightly compared to the previously overfitted model."
   ]
  },
  {
   "cell_type": "code",
   "execution_count": 24,
   "metadata": {},
   "outputs": [
    {
     "name": "stdout",
     "output_type": "stream",
     "text": [
      "rf training accuracy is:  0.8499409216226861\n",
      "rf testing accuracy is:  0.8027170702894271\n"
     ]
    }
   ],
   "source": [
    "parameters = {\n",
    "    'n_estimators': [500],\n",
    "    'max_depth': [16],\n",
    "    'min_samples_leaf': [5]\n",
    "\n",
    "}\n",
    "\n",
    "cv = GridSearchCV(rf, parameters, cv=5)\n",
    "cv.fit(tr_features,tr_labels.values.ravel())\n",
    "\n",
    "print('rf training accuracy is: ',cv.score(tr_features,tr_labels))\n",
    "print('rf testing accuracy is: ',cv.score(test_features,test_labels))"
   ]
  },
  {
   "cell_type": "markdown",
   "metadata": {},
   "source": [
    "By tuning the min_samples_leaf hyperparameter we were able to reduce overfitting by an even more significant amount and improve the final testing accuracy."
   ]
  },
  {
   "cell_type": "markdown",
   "metadata": {},
   "source": [
    "#### 1.3.2 XGBoost for the HR Analytics dataset"
   ]
  },
  {
   "cell_type": "code",
   "execution_count": 25,
   "metadata": {},
   "outputs": [
    {
     "name": "stdout",
     "output_type": "stream",
     "text": [
      "Best Parameters: {'alpha': 5, 'max_depth': 5, 'n_estimators': 50}\n",
      "\n",
      "0.685 (+/-0.021) for {'alpha': 5, 'max_depth': 1, 'n_estimators': 5}\n",
      "0.702 (+/-0.019) for {'alpha': 5, 'max_depth': 1, 'n_estimators': 10}\n",
      "0.708 (+/-0.031) for {'alpha': 5, 'max_depth': 1, 'n_estimators': 50}\n",
      "0.72 (+/-0.027) for {'alpha': 5, 'max_depth': 1, 'n_estimators': 100}\n",
      "0.741 (+/-0.032) for {'alpha': 5, 'max_depth': 3, 'n_estimators': 5}\n",
      "0.746 (+/-0.023) for {'alpha': 5, 'max_depth': 3, 'n_estimators': 10}\n",
      "0.791 (+/-0.022) for {'alpha': 5, 'max_depth': 3, 'n_estimators': 50}\n",
      "0.798 (+/-0.014) for {'alpha': 5, 'max_depth': 3, 'n_estimators': 100}\n",
      "0.769 (+/-0.024) for {'alpha': 5, 'max_depth': 4, 'n_estimators': 5}\n",
      "0.775 (+/-0.018) for {'alpha': 5, 'max_depth': 4, 'n_estimators': 10}\n",
      "0.797 (+/-0.017) for {'alpha': 5, 'max_depth': 4, 'n_estimators': 50}\n",
      "0.797 (+/-0.017) for {'alpha': 5, 'max_depth': 4, 'n_estimators': 100}\n",
      "0.776 (+/-0.017) for {'alpha': 5, 'max_depth': 5, 'n_estimators': 5}\n",
      "0.789 (+/-0.028) for {'alpha': 5, 'max_depth': 5, 'n_estimators': 10}\n",
      "0.799 (+/-0.011) for {'alpha': 5, 'max_depth': 5, 'n_estimators': 50}\n",
      "0.794 (+/-0.01) for {'alpha': 5, 'max_depth': 5, 'n_estimators': 100}\n",
      "0.685 (+/-0.021) for {'alpha': 10, 'max_depth': 1, 'n_estimators': 5}\n",
      "0.702 (+/-0.019) for {'alpha': 10, 'max_depth': 1, 'n_estimators': 10}\n",
      "0.708 (+/-0.031) for {'alpha': 10, 'max_depth': 1, 'n_estimators': 50}\n",
      "0.72 (+/-0.027) for {'alpha': 10, 'max_depth': 1, 'n_estimators': 100}\n",
      "0.741 (+/-0.032) for {'alpha': 10, 'max_depth': 3, 'n_estimators': 5}\n",
      "0.746 (+/-0.023) for {'alpha': 10, 'max_depth': 3, 'n_estimators': 10}\n",
      "0.791 (+/-0.022) for {'alpha': 10, 'max_depth': 3, 'n_estimators': 50}\n",
      "0.798 (+/-0.014) for {'alpha': 10, 'max_depth': 3, 'n_estimators': 100}\n",
      "0.769 (+/-0.024) for {'alpha': 10, 'max_depth': 4, 'n_estimators': 5}\n",
      "0.775 (+/-0.018) for {'alpha': 10, 'max_depth': 4, 'n_estimators': 10}\n",
      "0.797 (+/-0.017) for {'alpha': 10, 'max_depth': 4, 'n_estimators': 50}\n",
      "0.797 (+/-0.017) for {'alpha': 10, 'max_depth': 4, 'n_estimators': 100}\n",
      "0.776 (+/-0.017) for {'alpha': 10, 'max_depth': 5, 'n_estimators': 5}\n",
      "0.789 (+/-0.028) for {'alpha': 10, 'max_depth': 5, 'n_estimators': 10}\n",
      "0.799 (+/-0.011) for {'alpha': 10, 'max_depth': 5, 'n_estimators': 50}\n",
      "0.794 (+/-0.01) for {'alpha': 10, 'max_depth': 5, 'n_estimators': 100}\n",
      "0.685 (+/-0.021) for {'alpha': 15, 'max_depth': 1, 'n_estimators': 5}\n",
      "0.702 (+/-0.019) for {'alpha': 15, 'max_depth': 1, 'n_estimators': 10}\n",
      "0.708 (+/-0.031) for {'alpha': 15, 'max_depth': 1, 'n_estimators': 50}\n",
      "0.72 (+/-0.027) for {'alpha': 15, 'max_depth': 1, 'n_estimators': 100}\n",
      "0.741 (+/-0.032) for {'alpha': 15, 'max_depth': 3, 'n_estimators': 5}\n",
      "0.746 (+/-0.023) for {'alpha': 15, 'max_depth': 3, 'n_estimators': 10}\n",
      "0.791 (+/-0.022) for {'alpha': 15, 'max_depth': 3, 'n_estimators': 50}\n",
      "0.798 (+/-0.014) for {'alpha': 15, 'max_depth': 3, 'n_estimators': 100}\n",
      "0.769 (+/-0.024) for {'alpha': 15, 'max_depth': 4, 'n_estimators': 5}\n",
      "0.775 (+/-0.018) for {'alpha': 15, 'max_depth': 4, 'n_estimators': 10}\n",
      "0.797 (+/-0.017) for {'alpha': 15, 'max_depth': 4, 'n_estimators': 50}\n",
      "0.797 (+/-0.017) for {'alpha': 15, 'max_depth': 4, 'n_estimators': 100}\n",
      "0.776 (+/-0.017) for {'alpha': 15, 'max_depth': 5, 'n_estimators': 5}\n",
      "0.789 (+/-0.028) for {'alpha': 15, 'max_depth': 5, 'n_estimators': 10}\n",
      "0.799 (+/-0.011) for {'alpha': 15, 'max_depth': 5, 'n_estimators': 50}\n",
      "0.794 (+/-0.01) for {'alpha': 15, 'max_depth': 5, 'n_estimators': 100}\n",
      "0.685 (+/-0.021) for {'alpha': 20, 'max_depth': 1, 'n_estimators': 5}\n",
      "0.702 (+/-0.019) for {'alpha': 20, 'max_depth': 1, 'n_estimators': 10}\n",
      "0.708 (+/-0.031) for {'alpha': 20, 'max_depth': 1, 'n_estimators': 50}\n",
      "0.72 (+/-0.027) for {'alpha': 20, 'max_depth': 1, 'n_estimators': 100}\n",
      "0.741 (+/-0.032) for {'alpha': 20, 'max_depth': 3, 'n_estimators': 5}\n",
      "0.746 (+/-0.023) for {'alpha': 20, 'max_depth': 3, 'n_estimators': 10}\n",
      "0.791 (+/-0.022) for {'alpha': 20, 'max_depth': 3, 'n_estimators': 50}\n",
      "0.798 (+/-0.014) for {'alpha': 20, 'max_depth': 3, 'n_estimators': 100}\n",
      "0.769 (+/-0.024) for {'alpha': 20, 'max_depth': 4, 'n_estimators': 5}\n",
      "0.775 (+/-0.018) for {'alpha': 20, 'max_depth': 4, 'n_estimators': 10}\n",
      "0.797 (+/-0.017) for {'alpha': 20, 'max_depth': 4, 'n_estimators': 50}\n",
      "0.797 (+/-0.017) for {'alpha': 20, 'max_depth': 4, 'n_estimators': 100}\n",
      "0.776 (+/-0.017) for {'alpha': 20, 'max_depth': 5, 'n_estimators': 5}\n",
      "0.789 (+/-0.028) for {'alpha': 20, 'max_depth': 5, 'n_estimators': 10}\n",
      "0.799 (+/-0.011) for {'alpha': 20, 'max_depth': 5, 'n_estimators': 50}\n",
      "0.794 (+/-0.01) for {'alpha': 20, 'max_depth': 5, 'n_estimators': 100}\n"
     ]
    }
   ],
   "source": [
    "# Using 5 K-folds cross-validation, we will use GridSearchCV to tune the max_depth and alpha parameters for the XGBoost model\n",
    "from xgboost import XGBClassifier\n",
    "xg_class = XGBClassifier()\n",
    "parameters = {\n",
    "    'max_depth': [1, 3, 4, 5],\n",
    "    'alpha': [5, 10, 15, 20],\n",
    "    'n_estimators': [5, 10, 50, 100]\n",
    "}\n",
    "\n",
    "cv = GridSearchCV(xg_class, parameters, cv=5)\n",
    "cv.fit(tr_features,tr_labels.values.ravel())\n",
    "\n",
    "print_results(cv)"
   ]
  },
  {
   "cell_type": "markdown",
   "metadata": {},
   "source": [
    "The best alpha, max_depth and n_estimator hyperparameters for our XGBoostClassifier Model is 5, 5 and 50, respectively."
   ]
  },
  {
   "cell_type": "code",
   "execution_count": 26,
   "metadata": {},
   "outputs": [
    {
     "name": "stdout",
     "output_type": "stream",
     "text": [
      "XGBoostClassifier training accuracy is:  0.8190232374950768\n",
      "XGBoostClassifier validation accuracy is:  0.8080330773774365\n"
     ]
    }
   ],
   "source": [
    "print('XGBoostClassifier training accuracy is: ',cv.score(tr_features,tr_labels))\n",
    "print('XGBoostClassifier validation accuracy is: ',cv.score(val_features,val_labels))"
   ]
  },
  {
   "cell_type": "code",
   "execution_count": 27,
   "metadata": {},
   "outputs": [
    {
     "name": "stdout",
     "output_type": "stream",
     "text": [
      "XGBoostClassifier training accuracy is:  0.8355651831429697\n",
      "XGBoostClassifier testing accuracy is:  0.8168930891907856\n"
     ]
    }
   ],
   "source": [
    "parameters = {\n",
    "    'max_depth': [5],\n",
    "    'alpha': [5],\n",
    "    'n_estimators': [50],\n",
    "    'learning_rate': [0.17]\n",
    "    \n",
    "}\n",
    "\n",
    "cv = GridSearchCV(xg_class, parameters, cv=5)\n",
    "cv.fit(tr_features,tr_labels.values.ravel())\n",
    "\n",
    "print('XGBoostClassifier training accuracy is: ',cv.score(tr_features,tr_labels))\n",
    "print('XGBoostClassifier testing accuracy is: ',cv.score(test_features,test_labels))"
   ]
  },
  {
   "cell_type": "markdown",
   "metadata": {},
   "source": [
    "Tuning the XGBoost Classfier's learning_rate hyperparameter to 0.17 (after experimenting on a range of values from 0.01 to 0.2) yielded the highest training and testing accuracy on the dataset. "
   ]
  },
  {
   "cell_type": "markdown",
   "metadata": {},
   "source": [
    "#### 1.3.3 Support Vector Machine (SVM) Classifier for the HR Analytics dataset"
   ]
  },
  {
   "cell_type": "code",
   "execution_count": 28,
   "metadata": {},
   "outputs": [
    {
     "name": "stdout",
     "output_type": "stream",
     "text": [
      "Best Parameters: {'C': 100, 'kernel': 'rbf'}\n",
      "\n",
      "0.727 (+/-0.018) for {'C': 0.1, 'kernel': 'linear'}\n",
      "0.73 (+/-0.029) for {'C': 0.1, 'kernel': 'rbf'}\n",
      "0.714 (+/-0.026) for {'C': 0.1, 'kernel': 'poly'}\n",
      "0.448 (+/-0.034) for {'C': 0.1, 'kernel': 'sigmoid'}\n",
      "0.776 (+/-0.026) for {'C': 1, 'kernel': 'linear'}\n",
      "0.755 (+/-0.021) for {'C': 1, 'kernel': 'rbf'}\n",
      "0.752 (+/-0.019) for {'C': 1, 'kernel': 'poly'}\n",
      "0.458 (+/-0.036) for {'C': 1, 'kernel': 'sigmoid'}\n",
      "0.78 (+/-0.024) for {'C': 10, 'kernel': 'linear'}\n",
      "0.789 (+/-0.014) for {'C': 10, 'kernel': 'rbf'}\n",
      "0.773 (+/-0.02) for {'C': 10, 'kernel': 'poly'}\n",
      "0.455 (+/-0.038) for {'C': 10, 'kernel': 'sigmoid'}\n",
      "0.781 (+/-0.024) for {'C': 100, 'kernel': 'linear'}\n",
      "0.797 (+/-0.017) for {'C': 100, 'kernel': 'rbf'}\n",
      "0.788 (+/-0.018) for {'C': 100, 'kernel': 'poly'}\n",
      "0.455 (+/-0.038) for {'C': 100, 'kernel': 'sigmoid'}\n"
     ]
    }
   ],
   "source": [
    "# Using 5 K-folds cross-validation, we will use GridSearchCV to tune the kernel and C parameters for the SVM model\n",
    "svc = SVC()\n",
    "parameters = {\n",
    "    'kernel': ['linear', 'rbf', 'poly', 'sigmoid'],\n",
    "    'C': [0.1, 1, 10, 100]\n",
    "}\n",
    "\n",
    "cv = GridSearchCV(svc, parameters, cv=5)\n",
    "cv.fit(tr_features,tr_labels.values.ravel())\n",
    "\n",
    "print_results(cv)"
   ]
  },
  {
   "cell_type": "markdown",
   "metadata": {},
   "source": [
    "The best C and kernel hyperparameters for our SVM Model is 100 and rbf,respectively"
   ]
  },
  {
   "cell_type": "code",
   "execution_count": 29,
   "metadata": {},
   "outputs": [
    {
     "name": "stdout",
     "output_type": "stream",
     "text": [
      "SVM training accuracy is:  0.8194170933438362\n",
      "SVM validation accuracy is:  0.7914943886591849\n"
     ]
    }
   ],
   "source": [
    "print('SVM training accuracy is: ',cv.score(tr_features,tr_labels))\n",
    "print('SVM validation accuracy is: ',cv.score(val_features,val_labels))"
   ]
  },
  {
   "cell_type": "code",
   "execution_count": 30,
   "metadata": {},
   "outputs": [
    {
     "name": "stdout",
     "output_type": "stream",
     "text": [
      "SVM training accuracy is:  0.82926348956282\n",
      "SVM testing accuracy is:  0.8003544004725339\n"
     ]
    }
   ],
   "source": [
    "parameters = {\n",
    "    'kernel': ['rbf'],\n",
    "    'C': [100],\n",
    "    'gamma': [0.1]\n",
    "    \n",
    "}\n",
    "\n",
    "cv = GridSearchCV(svc, parameters, cv=5)\n",
    "cv.fit(tr_features,tr_labels.values.ravel())\n",
    "\n",
    "print('SVM training accuracy is: ',cv.score(tr_features,tr_labels))\n",
    "print('SVM testing accuracy is: ',cv.score(test_features,test_labels))"
   ]
  },
  {
   "cell_type": "markdown",
   "metadata": {},
   "source": [
    "Tuning the gamma hyperparameter of the SVC to 0.1 yielded a higher accuracy without significant overfitting."
   ]
  },
  {
   "cell_type": "markdown",
   "metadata": {},
   "source": [
    "[Back to Top ^](#hr_header)"
   ]
  },
  {
   "cell_type": "markdown",
   "metadata": {},
   "source": [
    "### 1.4 Create an Ensemble Model and Evaluate <a id='evaluate' /> "
   ]
  },
  {
   "cell_type": "markdown",
   "metadata": {},
   "source": [
    "#### Ensemble Model built using Random Forest, XGBoost Classifier and Support Vector Machine for HR Analytics dataset"
   ]
  },
  {
   "cell_type": "code",
   "execution_count": 34,
   "metadata": {},
   "outputs": [],
   "source": [
    "# Voting Classifier - Multiple Ensemble Model\n",
    "rf = RandomForestClassifier(n_estimators=500, max_depth = 16, min_samples_leaf=5)\n",
    "xg_class = XGBClassifier(max_depth=5, alpha=5, n_estimators=50, learning_rate=0.17)\n",
    "svm = SVC(C=100, kernel='rbf', gamma=0.1)"
   ]
  },
  {
   "cell_type": "code",
   "execution_count": 35,
   "metadata": {},
   "outputs": [],
   "source": [
    "evc = VotingClassifier(estimators = [('rf',rf),('xg_class',xg_class),('svm',svm)], voting='hard')"
   ]
  },
  {
   "cell_type": "code",
   "execution_count": 36,
   "metadata": {},
   "outputs": [
    {
     "name": "stdout",
     "output_type": "stream",
     "text": [
      "EVC training accuracy is 0.840882237101221\n",
      "EVC testing accuracy is 0.8109864146485528\n"
     ]
    }
   ],
   "source": [
    "evc.fit(tr_features, tr_labels.values.ravel())\n",
    "print('EVC training accuracy is', evc.score(tr_features, tr_labels.values.ravel()))\n",
    "print('EVC testing accuracy is', evc.score(test_features, test_labels.values.ravel()))"
   ]
  },
  {
   "cell_type": "markdown",
   "metadata": {},
   "source": [
    "[Back to Top ^](#hr_header)"
   ]
  },
  {
   "cell_type": "markdown",
   "metadata": {},
   "source": [
    "### 1.5 Summary <a id='summary' /> "
   ]
  },
  {
   "cell_type": "markdown",
   "metadata": {},
   "source": [
    "1. The XGBoost Classifier model is the most accurate of the regression models with a testing accuracy of approximately 0.8169. \n",
    "2. The Ensemble Variable Classifier (EVC) model failed to yield the highest testing accuracy\n",
    "3. Using feature importance analysis, the dataset was reduced to 15 variables, which helped to significantly reduce overfitting.\n",
    "4. Model accuracy might be improved with additional details like the types of awards won.\n",
    "5. Model accuracy might also be improved with more data records."
   ]
  },
  {
   "cell_type": "markdown",
   "metadata": {},
   "source": [
    "[Back to Top ^](#hr_header)"
   ]
  },
  {
   "cell_type": "markdown",
   "metadata": {},
   "source": [
    "## 2. Airbnb Singapore <a id='airbnb_header' /> "
   ]
  },
  {
   "cell_type": "markdown",
   "metadata": {},
   "source": [
    "1. [Load and Sample the data](#load2)\n",
    "2. [Feature Selection](#feature2)\n",
    "3. [Build and Tune Models](#build2)\n",
    "4. [Create an Ensemble Model and Evaluate](#evaluate2)\n",
    "5. [Summary](#summary2)"
   ]
  },
  {
   "cell_type": "markdown",
   "metadata": {},
   "source": [
    "### 2.1 Load and Sample the data <a id='load2' /> "
   ]
  },
  {
   "cell_type": "markdown",
   "metadata": {},
   "source": [
    "#### 2.1.1 Load cleansed AirBnb Singapore dataset"
   ]
  },
  {
   "cell_type": "code",
   "execution_count": 37,
   "metadata": {},
   "outputs": [
    {
     "data": {
      "text/html": [
       "<div>\n",
       "<style scoped>\n",
       "    .dataframe tbody tr th:only-of-type {\n",
       "        vertical-align: middle;\n",
       "    }\n",
       "\n",
       "    .dataframe tbody tr th {\n",
       "        vertical-align: top;\n",
       "    }\n",
       "\n",
       "    .dataframe thead th {\n",
       "        text-align: right;\n",
       "    }\n",
       "</style>\n",
       "<table border=\"1\" class=\"dataframe\">\n",
       "  <thead>\n",
       "    <tr style=\"text-align: right;\">\n",
       "      <th></th>\n",
       "      <th>price</th>\n",
       "      <th>minimum_nights</th>\n",
       "      <th>number_of_reviews</th>\n",
       "      <th>reviews_per_month</th>\n",
       "      <th>availability_365</th>\n",
       "      <th>Entire home/apt</th>\n",
       "      <th>Private room</th>\n",
       "      <th>Shared room</th>\n",
       "      <th>Bedok</th>\n",
       "      <th>Bishan</th>\n",
       "      <th>...</th>\n",
       "      <th>Rochor</th>\n",
       "      <th>Serangoon</th>\n",
       "      <th>Singapore River</th>\n",
       "      <th>Southern Islands</th>\n",
       "      <th>Tanglin</th>\n",
       "      <th>Toa Payoh</th>\n",
       "      <th>Central Region</th>\n",
       "      <th>East Region</th>\n",
       "      <th>North Region</th>\n",
       "      <th>North-East Region</th>\n",
       "    </tr>\n",
       "  </thead>\n",
       "  <tbody>\n",
       "    <tr>\n",
       "      <th>0</th>\n",
       "      <td>44</td>\n",
       "      <td>15</td>\n",
       "      <td>18</td>\n",
       "      <td>0.230000</td>\n",
       "      <td>331</td>\n",
       "      <td>0</td>\n",
       "      <td>1</td>\n",
       "      <td>0</td>\n",
       "      <td>0</td>\n",
       "      <td>0</td>\n",
       "      <td>...</td>\n",
       "      <td>0</td>\n",
       "      <td>0</td>\n",
       "      <td>0</td>\n",
       "      <td>0</td>\n",
       "      <td>0</td>\n",
       "      <td>0</td>\n",
       "      <td>1</td>\n",
       "      <td>0</td>\n",
       "      <td>0</td>\n",
       "      <td>0</td>\n",
       "    </tr>\n",
       "    <tr>\n",
       "      <th>1</th>\n",
       "      <td>276</td>\n",
       "      <td>4</td>\n",
       "      <td>11</td>\n",
       "      <td>0.130000</td>\n",
       "      <td>362</td>\n",
       "      <td>1</td>\n",
       "      <td>0</td>\n",
       "      <td>0</td>\n",
       "      <td>0</td>\n",
       "      <td>0</td>\n",
       "      <td>...</td>\n",
       "      <td>0</td>\n",
       "      <td>0</td>\n",
       "      <td>0</td>\n",
       "      <td>0</td>\n",
       "      <td>0</td>\n",
       "      <td>0</td>\n",
       "      <td>1</td>\n",
       "      <td>0</td>\n",
       "      <td>0</td>\n",
       "      <td>0</td>\n",
       "    </tr>\n",
       "    <tr>\n",
       "      <th>2</th>\n",
       "      <td>208</td>\n",
       "      <td>1</td>\n",
       "      <td>0</td>\n",
       "      <td>1.043669</td>\n",
       "      <td>0</td>\n",
       "      <td>0</td>\n",
       "      <td>0</td>\n",
       "      <td>1</td>\n",
       "      <td>0</td>\n",
       "      <td>0</td>\n",
       "      <td>...</td>\n",
       "      <td>0</td>\n",
       "      <td>0</td>\n",
       "      <td>0</td>\n",
       "      <td>0</td>\n",
       "      <td>0</td>\n",
       "      <td>0</td>\n",
       "      <td>1</td>\n",
       "      <td>0</td>\n",
       "      <td>0</td>\n",
       "      <td>0</td>\n",
       "    </tr>\n",
       "    <tr>\n",
       "      <th>3</th>\n",
       "      <td>128</td>\n",
       "      <td>3</td>\n",
       "      <td>0</td>\n",
       "      <td>1.043669</td>\n",
       "      <td>365</td>\n",
       "      <td>0</td>\n",
       "      <td>1</td>\n",
       "      <td>0</td>\n",
       "      <td>0</td>\n",
       "      <td>0</td>\n",
       "      <td>...</td>\n",
       "      <td>0</td>\n",
       "      <td>0</td>\n",
       "      <td>0</td>\n",
       "      <td>0</td>\n",
       "      <td>0</td>\n",
       "      <td>0</td>\n",
       "      <td>1</td>\n",
       "      <td>0</td>\n",
       "      <td>0</td>\n",
       "      <td>0</td>\n",
       "    </tr>\n",
       "    <tr>\n",
       "      <th>4</th>\n",
       "      <td>278</td>\n",
       "      <td>1</td>\n",
       "      <td>0</td>\n",
       "      <td>1.043669</td>\n",
       "      <td>365</td>\n",
       "      <td>0</td>\n",
       "      <td>1</td>\n",
       "      <td>0</td>\n",
       "      <td>1</td>\n",
       "      <td>0</td>\n",
       "      <td>...</td>\n",
       "      <td>0</td>\n",
       "      <td>0</td>\n",
       "      <td>0</td>\n",
       "      <td>0</td>\n",
       "      <td>0</td>\n",
       "      <td>0</td>\n",
       "      <td>0</td>\n",
       "      <td>1</td>\n",
       "      <td>0</td>\n",
       "      <td>0</td>\n",
       "    </tr>\n",
       "    <tr>\n",
       "      <th>5</th>\n",
       "      <td>150</td>\n",
       "      <td>1</td>\n",
       "      <td>2</td>\n",
       "      <td>0.050000</td>\n",
       "      <td>208</td>\n",
       "      <td>0</td>\n",
       "      <td>1</td>\n",
       "      <td>0</td>\n",
       "      <td>0</td>\n",
       "      <td>0</td>\n",
       "      <td>...</td>\n",
       "      <td>0</td>\n",
       "      <td>0</td>\n",
       "      <td>0</td>\n",
       "      <td>0</td>\n",
       "      <td>0</td>\n",
       "      <td>0</td>\n",
       "      <td>1</td>\n",
       "      <td>0</td>\n",
       "      <td>0</td>\n",
       "      <td>0</td>\n",
       "    </tr>\n",
       "    <tr>\n",
       "      <th>6</th>\n",
       "      <td>243</td>\n",
       "      <td>5</td>\n",
       "      <td>14</td>\n",
       "      <td>0.190000</td>\n",
       "      <td>143</td>\n",
       "      <td>1</td>\n",
       "      <td>0</td>\n",
       "      <td>0</td>\n",
       "      <td>0</td>\n",
       "      <td>0</td>\n",
       "      <td>...</td>\n",
       "      <td>0</td>\n",
       "      <td>0</td>\n",
       "      <td>0</td>\n",
       "      <td>0</td>\n",
       "      <td>0</td>\n",
       "      <td>0</td>\n",
       "      <td>1</td>\n",
       "      <td>0</td>\n",
       "      <td>0</td>\n",
       "      <td>0</td>\n",
       "    </tr>\n",
       "    <tr>\n",
       "      <th>7</th>\n",
       "      <td>35</td>\n",
       "      <td>18</td>\n",
       "      <td>6</td>\n",
       "      <td>0.150000</td>\n",
       "      <td>359</td>\n",
       "      <td>0</td>\n",
       "      <td>1</td>\n",
       "      <td>0</td>\n",
       "      <td>0</td>\n",
       "      <td>0</td>\n",
       "      <td>...</td>\n",
       "      <td>0</td>\n",
       "      <td>0</td>\n",
       "      <td>0</td>\n",
       "      <td>0</td>\n",
       "      <td>0</td>\n",
       "      <td>0</td>\n",
       "      <td>1</td>\n",
       "      <td>0</td>\n",
       "      <td>0</td>\n",
       "      <td>0</td>\n",
       "    </tr>\n",
       "    <tr>\n",
       "      <th>8</th>\n",
       "      <td>49</td>\n",
       "      <td>18</td>\n",
       "      <td>2</td>\n",
       "      <td>0.050000</td>\n",
       "      <td>360</td>\n",
       "      <td>0</td>\n",
       "      <td>1</td>\n",
       "      <td>0</td>\n",
       "      <td>0</td>\n",
       "      <td>0</td>\n",
       "      <td>...</td>\n",
       "      <td>0</td>\n",
       "      <td>0</td>\n",
       "      <td>0</td>\n",
       "      <td>0</td>\n",
       "      <td>0</td>\n",
       "      <td>0</td>\n",
       "      <td>1</td>\n",
       "      <td>0</td>\n",
       "      <td>0</td>\n",
       "      <td>0</td>\n",
       "    </tr>\n",
       "    <tr>\n",
       "      <th>9</th>\n",
       "      <td>137</td>\n",
       "      <td>6</td>\n",
       "      <td>10</td>\n",
       "      <td>0.140000</td>\n",
       "      <td>0</td>\n",
       "      <td>0</td>\n",
       "      <td>1</td>\n",
       "      <td>0</td>\n",
       "      <td>0</td>\n",
       "      <td>0</td>\n",
       "      <td>...</td>\n",
       "      <td>0</td>\n",
       "      <td>0</td>\n",
       "      <td>0</td>\n",
       "      <td>0</td>\n",
       "      <td>0</td>\n",
       "      <td>0</td>\n",
       "      <td>1</td>\n",
       "      <td>0</td>\n",
       "      <td>0</td>\n",
       "      <td>0</td>\n",
       "    </tr>\n",
       "  </tbody>\n",
       "</table>\n",
       "<p>10 rows × 35 columns</p>\n",
       "</div>"
      ],
      "text/plain": [
       "   price  minimum_nights  number_of_reviews  reviews_per_month  \\\n",
       "0     44              15                 18           0.230000   \n",
       "1    276               4                 11           0.130000   \n",
       "2    208               1                  0           1.043669   \n",
       "3    128               3                  0           1.043669   \n",
       "4    278               1                  0           1.043669   \n",
       "5    150               1                  2           0.050000   \n",
       "6    243               5                 14           0.190000   \n",
       "7     35              18                  6           0.150000   \n",
       "8     49              18                  2           0.050000   \n",
       "9    137               6                 10           0.140000   \n",
       "\n",
       "   availability_365  Entire home/apt  Private room  Shared room  Bedok  \\\n",
       "0               331                0             1            0      0   \n",
       "1               362                1             0            0      0   \n",
       "2                 0                0             0            1      0   \n",
       "3               365                0             1            0      0   \n",
       "4               365                0             1            0      1   \n",
       "5               208                0             1            0      0   \n",
       "6               143                1             0            0      0   \n",
       "7               359                0             1            0      0   \n",
       "8               360                0             1            0      0   \n",
       "9                 0                0             1            0      0   \n",
       "\n",
       "   Bishan  ...  Rochor  Serangoon  Singapore River  Southern Islands  Tanglin  \\\n",
       "0       0  ...       0          0                0                 0        0   \n",
       "1       0  ...       0          0                0                 0        0   \n",
       "2       0  ...       0          0                0                 0        0   \n",
       "3       0  ...       0          0                0                 0        0   \n",
       "4       0  ...       0          0                0                 0        0   \n",
       "5       0  ...       0          0                0                 0        0   \n",
       "6       0  ...       0          0                0                 0        0   \n",
       "7       0  ...       0          0                0                 0        0   \n",
       "8       0  ...       0          0                0                 0        0   \n",
       "9       0  ...       0          0                0                 0        0   \n",
       "\n",
       "   Toa Payoh  Central Region  East Region  North Region  North-East Region  \n",
       "0          0               1            0             0                  0  \n",
       "1          0               1            0             0                  0  \n",
       "2          0               1            0             0                  0  \n",
       "3          0               1            0             0                  0  \n",
       "4          0               0            1             0                  0  \n",
       "5          0               1            0             0                  0  \n",
       "6          0               1            0             0                  0  \n",
       "7          0               1            0             0                  0  \n",
       "8          0               1            0             0                  0  \n",
       "9          0               1            0             0                  0  \n",
       "\n",
       "[10 rows x 35 columns]"
      ]
     },
     "execution_count": 37,
     "metadata": {},
     "output_type": "execute_result"
    }
   ],
   "source": [
    "df_airbnb = pd.read_csv('listings_new.csv')\n",
    "df_airbnb.head(10)"
   ]
  },
  {
   "cell_type": "code",
   "execution_count": 38,
   "metadata": {},
   "outputs": [],
   "source": [
    "# Set the \"price\" as target/model output and the rest features as model inputs\n",
    "y_data2 = df_airbnb['price']\n",
    "x_data2 = df_airbnb.drop('price',axis=1)"
   ]
  },
  {
   "cell_type": "code",
   "execution_count": 39,
   "metadata": {},
   "outputs": [],
   "source": [
    "# Split the data into training, validation and testing data\n",
    "x_train2, x_test2, y_train2, y_test2 = train_test_split(x_data2, y_data2, test_size=0.4, random_state=2)\n",
    "x_val2, x_test2, y_val2, y_test2 = train_test_split(x_test2, y_test2, test_size=0.5, random_state=2)"
   ]
  },
  {
   "cell_type": "code",
   "execution_count": 40,
   "metadata": {},
   "outputs": [
    {
     "name": "stdout",
     "output_type": "stream",
     "text": [
      "0.6\n",
      "0.2\n",
      "0.2\n"
     ]
    }
   ],
   "source": [
    "# Verify that data split is successful\n",
    "for data in (y_train2, y_val2, y_test2):\n",
    "    print(round(len(data) / len(y_data2), 2))"
   ]
  },
  {
   "cell_type": "markdown",
   "metadata": {},
   "source": [
    "AirBnb SG dataset is split into 60% for training, 20% for validation and 20% for testing"
   ]
  },
  {
   "cell_type": "markdown",
   "metadata": {},
   "source": [
    "#### 2.1.2 Split and store Airbnb data as CSV files"
   ]
  },
  {
   "cell_type": "code",
   "execution_count": 41,
   "metadata": {},
   "outputs": [],
   "source": [
    "x_train2.to_csv('C:/Users/Ervin/Desktop/NP 2019-2020/(FINAL SEM) Business Analytics/Predictive Analytics/Assignment 1 + 2/AirBnbSplit/train_Airbnb_features.csv',index=False)\n",
    "x_val2.to_csv('C:/Users/Ervin/Desktop/NP 2019-2020/(FINAL SEM) Business Analytics/Predictive Analytics/Assignment 1 + 2/AirBnbSplit/val_Airbnb_features.csv',index=False)\n",
    "x_test2.to_csv('C:/Users/Ervin/Desktop/NP 2019-2020/(FINAL SEM) Business Analytics/Predictive Analytics/Assignment 1 + 2/AirBnbSplit/test_Airbnb_features.csv',index=False)\n",
    "\n",
    "y_train2.to_csv('C:/Users/Ervin/Desktop/NP 2019-2020/(FINAL SEM) Business Analytics/Predictive Analytics/Assignment 1 + 2/AirBnbSplit/train_Airbnb_labels.csv',index=False)\n",
    "y_val2.to_csv('C:/Users/Ervin/Desktop/NP 2019-2020/(FINAL SEM) Business Analytics/Predictive Analytics/Assignment 1 + 2/AirBnbSplit/val_Airbnb_labels.csv',index=False)\n",
    "y_test2.to_csv('C:/Users/Ervin/Desktop/NP 2019-2020/(FINAL SEM) Business Analytics/Predictive Analytics/Assignment 1 + 2/AirBnbSplit/test_Airbnb_labels.csv',index=False)"
   ]
  },
  {
   "cell_type": "code",
   "execution_count": 42,
   "metadata": {},
   "outputs": [],
   "source": [
    "# Read split HR Analytics data\n",
    "tr_features_airbnb = pd.read_csv('C:/Users/Ervin/Desktop/NP 2019-2020/(FINAL SEM) Business Analytics/Predictive Analytics/Assignment 1 + 2/AirBnbSplit/train_Airbnb_features.csv')\n",
    "val_features_airbnb = pd.read_csv('C:/Users/Ervin/Desktop/NP 2019-2020/(FINAL SEM) Business Analytics/Predictive Analytics/Assignment 1 + 2/AirBnbSplit/val_Airbnb_features.csv')\n",
    "test_features_airbnb = pd.read_csv('C:/Users/Ervin/Desktop/NP 2019-2020/(FINAL SEM) Business Analytics/Predictive Analytics/Assignment 1 + 2/AirBnbSplit/test_Airbnb_features.csv')\n",
    "\n",
    "tr_labels_airbnb = pd.read_csv('C:/Users/Ervin/Desktop/NP 2019-2020/(FINAL SEM) Business Analytics/Predictive Analytics/Assignment 1 + 2/AirBnbSplit/train_Airbnb_labels.csv')\n",
    "val_labels_airbnb = pd.read_csv('C:/Users/Ervin/Desktop/NP 2019-2020/(FINAL SEM) Business Analytics/Predictive Analytics/Assignment 1 + 2/AirBnbSplit/val_Airbnb_labels.csv')\n",
    "test_labels_airbnb = pd.read_csv('C:/Users/Ervin/Desktop/NP 2019-2020/(FINAL SEM) Business Analytics/Predictive Analytics/Assignment 1 + 2/AirBnbSplit/test_Airbnb_labels.csv')"
   ]
  },
  {
   "cell_type": "markdown",
   "metadata": {},
   "source": [
    "[Back to Top ^](#airbnb_header)"
   ]
  },
  {
   "cell_type": "markdown",
   "metadata": {},
   "source": [
    "### 2.2 Feature Selection <a id='feature2' />"
   ]
  },
  {
   "cell_type": "markdown",
   "metadata": {},
   "source": [
    "#### Build a CART model for the Airbnb SG dataset"
   ]
  },
  {
   "cell_type": "code",
   "execution_count": 43,
   "metadata": {},
   "outputs": [
    {
     "data": {
      "text/plain": [
       "DecisionTreeRegressor(ccp_alpha=0.0, criterion='mse', max_depth=2,\n",
       "                      max_features=None, max_leaf_nodes=None,\n",
       "                      min_impurity_decrease=0.0, min_impurity_split=None,\n",
       "                      min_samples_leaf=1, min_samples_split=2,\n",
       "                      min_weight_fraction_leaf=0.0, presort='deprecated',\n",
       "                      random_state=2, splitter='best')"
      ]
     },
     "execution_count": 43,
     "metadata": {},
     "output_type": "execute_result"
    }
   ],
   "source": [
    "# Create Decision Tree Regressor with random state equal to 2\n",
    "tree_reg = tree.DecisionTreeRegressor(max_depth=2, random_state=2)\n",
    "tree_reg.fit(x_train2, y_train2)"
   ]
  },
  {
   "cell_type": "code",
   "execution_count": 44,
   "metadata": {},
   "outputs": [
    {
     "name": "stdout",
     "output_type": "stream",
     "text": [
      "-3900.3539489132227\n",
      "{'criterion': 'mse', 'max_depth': 7, 'min_samples_leaf': 5, 'min_samples_split': 4}\n"
     ]
    }
   ],
   "source": [
    "# Use GridSearch to find the best combination of model hyperparameters\n",
    "\n",
    "dt = tree.DecisionTreeRegressor(max_depth = 2)\n",
    "\n",
    "param_grid = { \"criterion\" : [\"mse\", \"moe\"], \"min_samples_leaf\" : [1, 5, 10], \"min_samples_split\" : [2, 4, 10, 12, 16], 'max_depth' : [2,3,4,5,6,7]}\n",
    "\n",
    "gs = GridSearchCV(dt, param_grid=param_grid, scoring='neg_mean_squared_error', cv= 10, n_jobs=-1)\n",
    "# cv: number of partitions for cross validation\n",
    "# n_jobs: number of jobs to run in parallel, -1 means using all processors\n",
    "\n",
    "gs = gs.fit(x_train2, y_train2) # \n",
    "\n",
    "print(gs.best_score_)\n",
    "print(gs.best_params_)"
   ]
  },
  {
   "cell_type": "code",
   "execution_count": 45,
   "metadata": {},
   "outputs": [
    {
     "data": {
      "text/plain": [
       "DecisionTreeRegressor(ccp_alpha=0.0, criterion='mse', max_depth=7,\n",
       "                      max_features=None, max_leaf_nodes=None,\n",
       "                      min_impurity_decrease=0.0, min_impurity_split=None,\n",
       "                      min_samples_leaf=10, min_samples_split=2,\n",
       "                      min_weight_fraction_leaf=0.0, presort='deprecated',\n",
       "                      random_state=2, splitter='best')"
      ]
     },
     "execution_count": 45,
     "metadata": {},
     "output_type": "execute_result"
    }
   ],
   "source": [
    "decision_tree = tree.DecisionTreeRegressor(criterion='mse', max_depth = 7, min_samples_leaf = 10, min_samples_split = 2, random_state=2)\n",
    "decision_tree.fit(x_train2, y_train2)"
   ]
  },
  {
   "cell_type": "code",
   "execution_count": 46,
   "metadata": {},
   "outputs": [],
   "source": [
    "# Export our trained model as a .dot file\n",
    "export_graphviz(\n",
    "        tree_reg,\n",
    "        out_file=(\"./regression_tree.dot\"),\n",
    "        feature_names=list(df_airbnb.drop('price',axis=1)),\n",
    "        rounded=True,\n",
    "        filled=True\n",
    "    )"
   ]
  },
  {
   "cell_type": "code",
   "execution_count": 47,
   "metadata": {},
   "outputs": [],
   "source": [
    "#Convert the .dot file to .png file and displayed in the below Markdown cell\n",
    "!dot -Tpng regression_tree.dot -o tree2.png"
   ]
  },
  {
   "attachments": {
    "tree2.png": {
     "image/png": "[encoded data removed]"
    }
   },
   "cell_type": "markdown",
   "metadata": {},
   "source": [
    "![tree2.png](attachment:tree2.png)"
   ]
  },
  {
   "cell_type": "markdown",
   "metadata": {},
   "source": [
    "#### Initial CART accuracy for the Airbnb SG dataset"
   ]
  },
  {
   "cell_type": "code",
   "execution_count": 48,
   "metadata": {},
   "outputs": [
    {
     "name": "stdout",
     "output_type": "stream",
     "text": [
      "CART training R^2 is 0.5525017091831769\n",
      "CART testing R^2 is 0.48234421237344605\n"
     ]
    }
   ],
   "source": [
    "print('CART training R^2 is', decision_tree.score(x_train2, y_train2))\n",
    "print('CART testing R^2 is', decision_tree.score(x_test2, y_test2))"
   ]
  },
  {
   "cell_type": "markdown",
   "metadata": {},
   "source": [
    "#### 2.2.1a Random Forest - Ensemble of Decision Trees for the HR Analytics dataset"
   ]
  },
  {
   "cell_type": "markdown",
   "metadata": {},
   "source": [
    "Once again, although the CART allows us to get a quick overview of important features, we will use the Random Forest algorithm for dataset benchmarking and the aggregated identification of important predictor variables through the majority voting mechanism."
   ]
  },
  {
   "cell_type": "code",
   "execution_count": 49,
   "metadata": {},
   "outputs": [
    {
     "name": "stdout",
     "output_type": "stream",
     "text": [
      "Best Parameters: {'max_depth': 16, 'n_estimators': 500}\n",
      "\n",
      "0.371 (+/-0.043) for {'max_depth': 2, 'n_estimators': 5}\n",
      "0.373 (+/-0.053) for {'max_depth': 2, 'n_estimators': 50}\n",
      "0.373 (+/-0.054) for {'max_depth': 2, 'n_estimators': 100}\n",
      "0.371 (+/-0.056) for {'max_depth': 2, 'n_estimators': 500}\n",
      "0.43 (+/-0.063) for {'max_depth': 4, 'n_estimators': 5}\n",
      "0.442 (+/-0.063) for {'max_depth': 4, 'n_estimators': 50}\n",
      "0.441 (+/-0.069) for {'max_depth': 4, 'n_estimators': 100}\n",
      "0.443 (+/-0.069) for {'max_depth': 4, 'n_estimators': 500}\n",
      "0.466 (+/-0.078) for {'max_depth': 6, 'n_estimators': 5}\n",
      "0.485 (+/-0.08) for {'max_depth': 6, 'n_estimators': 50}\n",
      "0.488 (+/-0.076) for {'max_depth': 6, 'n_estimators': 100}\n",
      "0.488 (+/-0.078) for {'max_depth': 6, 'n_estimators': 500}\n",
      "0.494 (+/-0.087) for {'max_depth': 8, 'n_estimators': 5}\n",
      "0.514 (+/-0.077) for {'max_depth': 8, 'n_estimators': 50}\n",
      "0.516 (+/-0.085) for {'max_depth': 8, 'n_estimators': 100}\n",
      "0.517 (+/-0.082) for {'max_depth': 8, 'n_estimators': 500}\n",
      "0.487 (+/-0.096) for {'max_depth': 16, 'n_estimators': 5}\n",
      "0.528 (+/-0.077) for {'max_depth': 16, 'n_estimators': 50}\n",
      "0.534 (+/-0.084) for {'max_depth': 16, 'n_estimators': 100}\n",
      "0.536 (+/-0.081) for {'max_depth': 16, 'n_estimators': 500}\n",
      "0.455 (+/-0.074) for {'max_depth': 32, 'n_estimators': 5}\n",
      "0.524 (+/-0.084) for {'max_depth': 32, 'n_estimators': 50}\n",
      "0.528 (+/-0.089) for {'max_depth': 32, 'n_estimators': 100}\n",
      "0.529 (+/-0.083) for {'max_depth': 32, 'n_estimators': 500}\n",
      "0.456 (+/-0.092) for {'max_depth': None, 'n_estimators': 5}\n",
      "0.516 (+/-0.077) for {'max_depth': None, 'n_estimators': 50}\n",
      "0.528 (+/-0.084) for {'max_depth': None, 'n_estimators': 100}\n",
      "0.53 (+/-0.082) for {'max_depth': None, 'n_estimators': 500}\n"
     ]
    }
   ],
   "source": [
    "# Using 5 K-folds cross-validation, we will use GridSearchCV to tune the max_depth and n_estimator parameters for the RF model\n",
    "from sklearn.ensemble import RandomForestRegressor\n",
    "\n",
    "rf = RandomForestRegressor()\n",
    "parameters = {\n",
    "    'n_estimators': [5, 50, 100, 500],\n",
    "    'max_depth': [2, 4, 6, 8, 16, 32, None]\n",
    "\n",
    "}\n",
    "\n",
    "cv = GridSearchCV(rf, parameters, cv=5)\n",
    "cv.fit(tr_features_airbnb,tr_labels_airbnb.values.ravel())\n",
    "\n",
    "print_results(cv)"
   ]
  },
  {
   "cell_type": "markdown",
   "metadata": {},
   "source": [
    "The best max_depth and n_estimator hyperparameters for our RandomForest Model is 16 and 100, respectively."
   ]
  },
  {
   "cell_type": "code",
   "execution_count": 50,
   "metadata": {},
   "outputs": [
    {
     "name": "stdout",
     "output_type": "stream",
     "text": [
      "rf training R^2 is:  0.8810147080417892\n",
      "rf testing R^2 is:  0.5683235360415728\n"
     ]
    }
   ],
   "source": [
    "# Checking the RF R^2 value by using the Score function\n",
    "print('rf training R^2 is: ',cv.score(tr_features_airbnb,tr_labels_airbnb))\n",
    "print('rf testing R^2 is: ',cv.score(test_features_airbnb,test_labels_airbnb))"
   ]
  },
  {
   "cell_type": "code",
   "execution_count": 51,
   "metadata": {},
   "outputs": [
    {
     "name": "stdout",
     "output_type": "stream",
     "text": [
      "rf training MAE is:  21.15298474627658\n",
      "rf testing MAE is:  40.30885180214336\n"
     ]
    }
   ],
   "source": [
    "from sklearn.metrics import mean_absolute_error\n",
    "\n",
    "print('rf training MAE is: ', mean_absolute_error(cv.predict(tr_features_airbnb), tr_labels_airbnb))\n",
    "print('rf testing MAE is: ', mean_absolute_error(cv.predict(test_features_airbnb), test_labels_airbnb))"
   ]
  },
  {
   "cell_type": "code",
   "execution_count": 52,
   "metadata": {},
   "outputs": [
    {
     "name": "stdout",
     "output_type": "stream",
     "text": [
      "rf training RMSE is:  30.176387480430456\n",
      "rf testing RMSE is:  57.26799523741539\n"
     ]
    }
   ],
   "source": [
    "print('rf training RMSE is: ', np.sqrt(mean_squared_error(cv.predict(tr_features_airbnb), tr_labels_airbnb)))\n",
    "print('rf testing RMSE is: ', np.sqrt(mean_squared_error(cv.predict(test_features_airbnb), test_labels_airbnb)))"
   ]
  },
  {
   "cell_type": "markdown",
   "metadata": {},
   "source": [
    "#### 2.2.1b Feature Selection - Trees Regressor (Filter Method) and Recursive Feature Elimination (Wrapper Method)"
   ]
  },
  {
   "cell_type": "markdown",
   "metadata": {},
   "source": [
    "#### Random Trees"
   ]
  },
  {
   "cell_type": "code",
   "execution_count": 53,
   "metadata": {
    "scrolled": true
   },
   "outputs": [
    {
     "data": {
      "text/html": [
       "<div>\n",
       "<style scoped>\n",
       "    .dataframe tbody tr th:only-of-type {\n",
       "        vertical-align: middle;\n",
       "    }\n",
       "\n",
       "    .dataframe tbody tr th {\n",
       "        vertical-align: top;\n",
       "    }\n",
       "\n",
       "    .dataframe thead th {\n",
       "        text-align: right;\n",
       "    }\n",
       "</style>\n",
       "<table border=\"1\" class=\"dataframe\">\n",
       "  <thead>\n",
       "    <tr style=\"text-align: right;\">\n",
       "      <th></th>\n",
       "      <th>importance</th>\n",
       "    </tr>\n",
       "  </thead>\n",
       "  <tbody>\n",
       "    <tr>\n",
       "      <th>Entire home/apt</th>\n",
       "      <td>0.357242</td>\n",
       "    </tr>\n",
       "    <tr>\n",
       "      <th>availability_365</th>\n",
       "      <td>0.194244</td>\n",
       "    </tr>\n",
       "    <tr>\n",
       "      <th>minimum_nights</th>\n",
       "      <td>0.093508</td>\n",
       "    </tr>\n",
       "    <tr>\n",
       "      <th>reviews_per_month</th>\n",
       "      <td>0.079870</td>\n",
       "    </tr>\n",
       "    <tr>\n",
       "      <th>number_of_reviews</th>\n",
       "      <td>0.062173</td>\n",
       "    </tr>\n",
       "    <tr>\n",
       "      <th>Downtown Core</th>\n",
       "      <td>0.026423</td>\n",
       "    </tr>\n",
       "    <tr>\n",
       "      <th>Geylang</th>\n",
       "      <td>0.022336</td>\n",
       "    </tr>\n",
       "    <tr>\n",
       "      <th>Orchard</th>\n",
       "      <td>0.017176</td>\n",
       "    </tr>\n",
       "    <tr>\n",
       "      <th>Rochor</th>\n",
       "      <td>0.013136</td>\n",
       "    </tr>\n",
       "    <tr>\n",
       "      <th>Kallang</th>\n",
       "      <td>0.012904</td>\n",
       "    </tr>\n",
       "    <tr>\n",
       "      <th>Novena</th>\n",
       "      <td>0.010818</td>\n",
       "    </tr>\n",
       "    <tr>\n",
       "      <th>Private room</th>\n",
       "      <td>0.010614</td>\n",
       "    </tr>\n",
       "    <tr>\n",
       "      <th>Shared room</th>\n",
       "      <td>0.010124</td>\n",
       "    </tr>\n",
       "    <tr>\n",
       "      <th>Marine Parade</th>\n",
       "      <td>0.008953</td>\n",
       "    </tr>\n",
       "    <tr>\n",
       "      <th>Outram</th>\n",
       "      <td>0.008719</td>\n",
       "    </tr>\n",
       "    <tr>\n",
       "      <th>Bukit Merah</th>\n",
       "      <td>0.008066</td>\n",
       "    </tr>\n",
       "    <tr>\n",
       "      <th>Newton</th>\n",
       "      <td>0.007772</td>\n",
       "    </tr>\n",
       "    <tr>\n",
       "      <th>Tanglin</th>\n",
       "      <td>0.007540</td>\n",
       "    </tr>\n",
       "    <tr>\n",
       "      <th>River Valley</th>\n",
       "      <td>0.007201</td>\n",
       "    </tr>\n",
       "    <tr>\n",
       "      <th>Singapore River</th>\n",
       "      <td>0.006132</td>\n",
       "    </tr>\n",
       "    <tr>\n",
       "      <th>Toa Payoh</th>\n",
       "      <td>0.006087</td>\n",
       "    </tr>\n",
       "    <tr>\n",
       "      <th>Queenstown</th>\n",
       "      <td>0.005370</td>\n",
       "    </tr>\n",
       "    <tr>\n",
       "      <th>Bedok</th>\n",
       "      <td>0.004536</td>\n",
       "    </tr>\n",
       "    <tr>\n",
       "      <th>East Region</th>\n",
       "      <td>0.004199</td>\n",
       "    </tr>\n",
       "    <tr>\n",
       "      <th>Central Region</th>\n",
       "      <td>0.003759</td>\n",
       "    </tr>\n",
       "    <tr>\n",
       "      <th>Bukit Timah</th>\n",
       "      <td>0.002745</td>\n",
       "    </tr>\n",
       "    <tr>\n",
       "      <th>Southern Islands</th>\n",
       "      <td>0.002511</td>\n",
       "    </tr>\n",
       "    <tr>\n",
       "      <th>Bishan</th>\n",
       "      <td>0.001434</td>\n",
       "    </tr>\n",
       "    <tr>\n",
       "      <th>North-East Region</th>\n",
       "      <td>0.001344</td>\n",
       "    </tr>\n",
       "    <tr>\n",
       "      <th>Serangoon</th>\n",
       "      <td>0.001325</td>\n",
       "    </tr>\n",
       "    <tr>\n",
       "      <th>Museum</th>\n",
       "      <td>0.000717</td>\n",
       "    </tr>\n",
       "    <tr>\n",
       "      <th>Hougang</th>\n",
       "      <td>0.000385</td>\n",
       "    </tr>\n",
       "    <tr>\n",
       "      <th>Central Water Catchment</th>\n",
       "      <td>0.000323</td>\n",
       "    </tr>\n",
       "    <tr>\n",
       "      <th>North Region</th>\n",
       "      <td>0.000313</td>\n",
       "    </tr>\n",
       "  </tbody>\n",
       "</table>\n",
       "</div>"
      ],
      "text/plain": [
       "                         importance\n",
       "Entire home/apt            0.357242\n",
       "availability_365           0.194244\n",
       "minimum_nights             0.093508\n",
       "reviews_per_month          0.079870\n",
       "number_of_reviews          0.062173\n",
       "Downtown Core              0.026423\n",
       "Geylang                    0.022336\n",
       "Orchard                    0.017176\n",
       "Rochor                     0.013136\n",
       "Kallang                    0.012904\n",
       "Novena                     0.010818\n",
       "Private room               0.010614\n",
       "Shared room                0.010124\n",
       "Marine Parade              0.008953\n",
       "Outram                     0.008719\n",
       "Bukit Merah                0.008066\n",
       "Newton                     0.007772\n",
       "Tanglin                    0.007540\n",
       "River Valley               0.007201\n",
       "Singapore River            0.006132\n",
       "Toa Payoh                  0.006087\n",
       "Queenstown                 0.005370\n",
       "Bedok                      0.004536\n",
       "East Region                0.004199\n",
       "Central Region             0.003759\n",
       "Bukit Timah                0.002745\n",
       "Southern Islands           0.002511\n",
       "Bishan                     0.001434\n",
       "North-East Region          0.001344\n",
       "Serangoon                  0.001325\n",
       "Museum                     0.000717\n",
       "Hougang                    0.000385\n",
       "Central Water Catchment    0.000323\n",
       "North Region               0.000313"
      ]
     },
     "execution_count": 53,
     "metadata": {},
     "output_type": "execute_result"
    }
   ],
   "source": [
    "# Identifying important features using Random Forest\n",
    "feature_importances = pd.DataFrame(cv.best_estimator_.feature_importances_,\n",
    "                                   index = tr_features_airbnb.columns,\n",
    "                                    columns=['importance']).sort_values('importance',                                                                 \n",
    "                                                                        ascending=False)\n",
    "feature_importances"
   ]
  },
  {
   "cell_type": "markdown",
   "metadata": {},
   "source": [
    "#### Extra Trees Classifiers"
   ]
  },
  {
   "cell_type": "code",
   "execution_count": 54,
   "metadata": {},
   "outputs": [
    {
     "name": "stdout",
     "output_type": "stream",
     "text": [
      "[1.09218676e-01 7.07772522e-02 7.71223556e-02 1.86085380e-01\n",
      " 3.43586523e-01 8.73102633e-03 9.45845692e-03 4.20935862e-03\n",
      " 2.31788655e-03 9.10229428e-03 3.20529648e-03 4.72706312e-04\n",
      " 2.17746285e-02 2.21428845e-02 2.22166418e-04 1.22111742e-02\n",
      " 1.04674625e-02 1.27705602e-03 6.94311521e-03 1.11744855e-02\n",
      " 1.84084232e-02 8.34978461e-03 7.75013203e-03 8.15422977e-03\n",
      " 1.04879233e-02 1.48772452e-03 6.44651509e-03 2.49479574e-03\n",
      " 9.01005572e-03 6.54801204e-03 4.21373781e-03 4.24308077e-03\n",
      " 4.12733713e-04 1.49266615e-03]\n"
     ]
    }
   ],
   "source": [
    "# Identifying important features using Extra Trees (another Tree-based model)\n",
    "from sklearn.ensemble import ExtraTreesRegressor\n",
    "\n",
    "model = ExtraTreesRegressor()\n",
    "model.fit(tr_features_airbnb,tr_labels_airbnb.values.ravel())\n",
    "print(model.feature_importances_) #use inbuilt class feature_importances of tree based classifiers"
   ]
  },
  {
   "cell_type": "code",
   "execution_count": 55,
   "metadata": {},
   "outputs": [
    {
     "data": {
      "image/png": "[encoded data removed]",
      "text/plain": [
       "<Figure size 432x288 with 1 Axes>"
      ]
     },
     "metadata": {},
     "output_type": "display_data"
    }
   ],
   "source": [
    "#plot graph of feature importances for better visualization\n",
    "feat_importances = pd.Series(model.feature_importances_, index=tr_features_airbnb.columns)\n",
    "feat_importances.nlargest(15).plot(kind='barh')\n",
    "plt.show()"
   ]
  },
  {
   "cell_type": "markdown",
   "metadata": {},
   "source": [
    "Based on an ensemble of 500 independent decision trees, the 15 features that achieved the highest votes for their importance are:\n",
    "1. Entire home/apt\n",
    "2. availability_365\n",
    "3. minimum_nights\n",
    "4. reviews_per_month\n",
    "5. number_of_reviews\n",
    "6. Downtown Core\n",
    "7. Geylang\n",
    "8. Orchard\n",
    "9. Rochor\n",
    "10. Kallang\n",
    "11. Novena\n",
    "12. Marine Parade\n",
    "13. Shared room\n",
    "14. Bukit Merah\n",
    "15. Tanglin\n",
    "\n",
    "These insights could be later used to build a more refined model with improved model scores with reduced dimensionality and complexity."
   ]
  },
  {
   "cell_type": "markdown",
   "metadata": {},
   "source": [
    "#### Recursive Feature Elimination"
   ]
  },
  {
   "cell_type": "code",
   "execution_count": 56,
   "metadata": {},
   "outputs": [
    {
     "name": "stdout",
     "output_type": "stream",
     "text": [
      "[False False False False False False False False  True  True  True False\n",
      " False False False  True False False False False False False False False\n",
      " False False  True False False  True  True False False False]\n",
      "[23 25 22 28 15 16 17 24  1  1  1 19 12  8 20  1  5  7  9 10 13  3  2  6\n",
      "  4 27  1 14 11  1  1 26 18 21]\n"
     ]
    }
   ],
   "source": [
    "from sklearn.feature_selection import RFE\n",
    "\n",
    "model = LinearRegression() # Initializing RFE model\n",
    "rfe = RFE(model, 7) # Transforming data using RFE\n",
    "X_rfe = rfe.fit_transform(x_data2,y_data2)  # Fitting the data to model\n",
    "model.fit(X_rfe,y_data2)\n",
    "\n",
    "print(rfe.support_)\n",
    "print(rfe.ranking_)"
   ]
  },
  {
   "cell_type": "code",
   "execution_count": 57,
   "metadata": {},
   "outputs": [
    {
     "name": "stdout",
     "output_type": "stream",
     "text": [
      "Optimum number of features: 34\n",
      "Score with 34 features: 0.439451\n"
     ]
    }
   ],
   "source": [
    "# No of features\n",
    "nof_list=np.arange(1,35)            \n",
    "high_score=0\n",
    "\n",
    "# Variable to store the optimum features\n",
    "nof=0           \n",
    "score_list =[]\n",
    "for n in range(len(nof_list)):\n",
    "    x_train2, x_test2, y_train2, y_test2 = train_test_split(x_data2, y_data2, test_size=0.4, random_state=2)\n",
    "    x_val2, x_test2, y_val2, y_test2 = train_test_split(x_test2, y_test2, test_size=0.5, random_state=2)\n",
    "    model = LinearRegression()\n",
    "    rfe = RFE(model,nof_list[n])\n",
    "    X_train_rfe = rfe.fit_transform(x_train2,y_train2)\n",
    "    X_test_rfe = rfe.transform(x_test2)\n",
    "    model.fit(X_train_rfe,y_train2)\n",
    "    score = model.score(X_test_rfe,y_test2)\n",
    "    score_list.append(score)\n",
    "    if(score>high_score):\n",
    "        high_score = score\n",
    "        nof = nof_list[n]\n",
    "\n",
    "print(\"Optimum number of features: %d\" %nof)   \n",
    "print(\"Score with %d features: %f\" % (nof, high_score))"
   ]
  },
  {
   "cell_type": "code",
   "execution_count": 58,
   "metadata": {},
   "outputs": [
    {
     "name": "stdout",
     "output_type": "stream",
     "text": [
      "Index(['minimum_nights', 'number_of_reviews', 'reviews_per_month',\n",
      "       'availability_365', 'Entire home/apt', 'Private room', 'Shared room',\n",
      "       'Bedok', 'Bishan', 'Bukit Merah', 'Bukit Timah',\n",
      "       'Central Water Catchment', 'Downtown Core', 'Geylang', 'Hougang',\n",
      "       'Kallang', 'Marine Parade', 'Museum', 'Newton', 'Novena', 'Orchard',\n",
      "       'Outram', 'Queenstown', 'River Valley', 'Rochor', 'Serangoon',\n",
      "       'Singapore River', 'Southern Islands', 'Tanglin', 'Toa Payoh',\n",
      "       'Central Region', 'East Region', 'North Region', 'North-East Region'],\n",
      "      dtype='object')\n",
      "LR training accuracy is:  0.443393514001622\n"
     ]
    }
   ],
   "source": [
    "cols = list(x_data2.columns)\n",
    "model = LinearRegression() # Initializing RFE model\n",
    "rfe = RFE(model,34)             # Transforming data using RFE\n",
    "X_rfe = rfe.fit_transform(x_data2,y_data2)  # Fitting the data to model\n",
    "model.fit(X_rfe,y_data2)\n",
    "temp = pd.Series(rfe.support_,index = cols)\n",
    "selected_features_rfe = temp[temp==True].index\n",
    "\n",
    "print(selected_features_rfe)\n",
    "print('LR training R^2 is: ',model.score(X_rfe,y_data2)) "
   ]
  },
  {
   "cell_type": "code",
   "execution_count": 59,
   "metadata": {},
   "outputs": [
    {
     "data": {
      "text/plain": [
       "['Entire home/apt',\n",
       " 'availability_365',\n",
       " 'minimum_nights',\n",
       " 'reviews_per_month',\n",
       " 'number_of_reviews',\n",
       " 'Downtown Core',\n",
       " 'Geylang',\n",
       " 'Orchard',\n",
       " 'Rochor',\n",
       " 'Kallang',\n",
       " 'Novena',\n",
       " 'Private room',\n",
       " 'Shared room',\n",
       " 'Marine Parade',\n",
       " 'Outram',\n",
       " 'Bukit Merah',\n",
       " 'Newton',\n",
       " 'Tanglin',\n",
       " 'River Valley',\n",
       " 'Singapore River',\n",
       " 'Toa Payoh',\n",
       " 'Queenstown',\n",
       " 'Bedok',\n",
       " 'East Region',\n",
       " 'Central Region',\n",
       " 'Bukit Timah',\n",
       " 'Southern Islands',\n",
       " 'Bishan',\n",
       " 'North-East Region',\n",
       " 'Serangoon',\n",
       " 'Museum',\n",
       " 'Hougang',\n",
       " 'Central Water Catchment',\n",
       " 'North Region']"
      ]
     },
     "execution_count": 59,
     "metadata": {},
     "output_type": "execute_result"
    }
   ],
   "source": [
    "list(feature_importances.index)"
   ]
  },
  {
   "cell_type": "markdown",
   "metadata": {},
   "source": [
    "Based the findings of these feature selection methods, we will reduce the dimensionality of our dataset to the top 15 features identified. And reassess their R^2, MAE and RMSE values to see the difference."
   ]
  },
  {
   "cell_type": "markdown",
   "metadata": {},
   "source": [
    "[Back to Top ^](#airbnb_header)"
   ]
  },
  {
   "cell_type": "markdown",
   "metadata": {},
   "source": [
    "### 2.3 Build and Tune Models <a id='build2' />"
   ]
  },
  {
   "cell_type": "code",
   "execution_count": 80,
   "metadata": {},
   "outputs": [],
   "source": [
    "tr_features_airbnb = tr_features_airbnb[['Entire home/apt','availability_365','minimum_nights','reviews_per_month',\n",
    "                                        'number_of_reviews','Downtown Core','Geylang','Orchard','Rochor','Kallang',\n",
    "                                        'Shared room','Novena','Private room', 'Marine Parade', 'Outram']]\n",
    "\n",
    "val_features_airbnb = val_features_airbnb[['Entire home/apt','availability_365','minimum_nights','reviews_per_month',\n",
    "                                        'number_of_reviews','Downtown Core','Geylang','Orchard','Rochor','Kallang',\n",
    "                                        'Shared room','Novena','Private room', 'Marine Parade', 'Outram']]\n",
    "\n",
    "test_features_airbnb = test_features_airbnb[['Entire home/apt','availability_365','minimum_nights','reviews_per_month',\n",
    "                                        'number_of_reviews','Downtown Core','Geylang','Orchard','Rochor','Kallang',\n",
    "                                        'Shared room','Novena','Private room', 'Marine Parade', 'Outram']]"
   ]
  },
  {
   "cell_type": "markdown",
   "metadata": {},
   "source": [
    "#### 2.3.1 Random Forest Regressor for the Airbnb Singapore dataset"
   ]
  },
  {
   "cell_type": "code",
   "execution_count": 81,
   "metadata": {},
   "outputs": [
    {
     "name": "stdout",
     "output_type": "stream",
     "text": [
      "rf training R^2 is:  0.5118792291112553\n",
      "rf validation R^2 is:  0.47522746108771363\n"
     ]
    }
   ],
   "source": [
    "# Reassess the RF R^2 value/Accuracy by using the Score function, following feature selection\n",
    "cv.fit(tr_features_airbnb,tr_labels_airbnb.values.ravel())\n",
    "print('rf training R^2 is: ',cv.score(tr_features_airbnb,tr_labels_airbnb))\n",
    "print('rf validation R^2 is: ',cv.score(val_features_airbnb,val_labels_airbnb))"
   ]
  },
  {
   "cell_type": "markdown",
   "metadata": {},
   "source": [
    "Compared to the initial run of the Random Forest model, the overfitting has been significantly reduced, while testing R^2 score has only dropped slightly compared to the previously overfitted model."
   ]
  },
  {
   "cell_type": "code",
   "execution_count": 82,
   "metadata": {},
   "outputs": [
    {
     "name": "stdout",
     "output_type": "stream",
     "text": [
      "rf training R^2 is:  0.6672590388383566\n",
      "rf testing R^2 is:  0.5452294608268229\n"
     ]
    }
   ],
   "source": [
    "parameters = {\n",
    "    'n_estimators': [500],\n",
    "    'max_depth': [16],\n",
    "    'min_samples_leaf': [7]\n",
    "\n",
    "}\n",
    "\n",
    "cv = GridSearchCV(rf, parameters, cv=5)\n",
    "cv.fit(tr_features_airbnb,tr_labels_airbnb.values.ravel())\n",
    "\n",
    "print('rf training R^2 is: ',cv.score(tr_features_airbnb,tr_labels_airbnb))\n",
    "print('rf testing R^2 is: ',cv.score(test_features_airbnb,test_labels_airbnb))"
   ]
  },
  {
   "cell_type": "markdown",
   "metadata": {},
   "source": [
    "Tuning the min_samples_leaf hyperparameter of the Random Forest model helped boost its testing accuracy"
   ]
  },
  {
   "cell_type": "code",
   "execution_count": 83,
   "metadata": {},
   "outputs": [
    {
     "name": "stdout",
     "output_type": "stream",
     "text": [
      "rf training MAE is:  36.217912726347095\n",
      "rf testing MAE is:  42.68750896681765\n"
     ]
    }
   ],
   "source": [
    "print('rf training MAE is: ', mean_absolute_error(cv.predict(tr_features_airbnb), tr_labels_airbnb))\n",
    "print('rf testing MAE is: ', mean_absolute_error(cv.predict(test_features_airbnb), test_labels_airbnb))"
   ]
  },
  {
   "cell_type": "code",
   "execution_count": 84,
   "metadata": {},
   "outputs": [
    {
     "name": "stdout",
     "output_type": "stream",
     "text": [
      "rf training RMSE is:  50.46307845785271\n",
      "rf testing RMSE is:  58.77991533588497\n"
     ]
    }
   ],
   "source": [
    "print('rf training RMSE is: ', np.sqrt(mean_squared_error(cv.predict(tr_features_airbnb), tr_labels_airbnb)))\n",
    "print('rf testing RMSE is: ', np.sqrt(mean_squared_error(cv.predict(test_features_airbnb), test_labels_airbnb)))"
   ]
  },
  {
   "cell_type": "markdown",
   "metadata": {},
   "source": [
    "#### 2.3.2 XGBoost for the Airbnb Singapore dataset"
   ]
  },
  {
   "cell_type": "code",
   "execution_count": 85,
   "metadata": {},
   "outputs": [
    {
     "name": "stdout",
     "output_type": "stream",
     "text": [
      "[20:06:56] WARNING: src/objective/regression_obj.cu:152: reg:linear is now deprecated in favor of reg:squarederror.\n",
      "[20:06:56] WARNING: src/objective/regression_obj.cu:152: reg:linear is now deprecated in favor of reg:squarederror.\n",
      "[20:06:56] WARNING: src/objective/regression_obj.cu:152: reg:linear is now deprecated in favor of reg:squarederror.\n",
      "[20:06:56] WARNING: src/objective/regression_obj.cu:152: reg:linear is now deprecated in favor of reg:squarederror.\n",
      "[20:06:56] WARNING: src/objective/regression_obj.cu:152: reg:linear is now deprecated in favor of reg:squarederror.\n",
      "[20:06:56] WARNING: src/objective/regression_obj.cu:152: reg:linear is now deprecated in favor of reg:squarederror.\n",
      "[20:06:56] WARNING: src/objective/regression_obj.cu:152: reg:linear is now deprecated in favor of reg:squarederror.\n",
      "[20:06:56] WARNING: src/objective/regression_obj.cu:152: reg:linear is now deprecated in favor of reg:squarederror.\n",
      "[20:06:56] WARNING: src/objective/regression_obj.cu:152: reg:linear is now deprecated in favor of reg:squarederror.\n",
      "[20:06:56] WARNING: src/objective/regression_obj.cu:152: reg:linear is now deprecated in favor of reg:squarederror.\n",
      "[20:06:56] WARNING: src/objective/regression_obj.cu:152: reg:linear is now deprecated in favor of reg:squarederror.\n",
      "[20:06:56] WARNING: src/objective/regression_obj.cu:152: reg:linear is now deprecated in favor of reg:squarederror.\n",
      "[20:06:56] WARNING: src/objective/regression_obj.cu:152: reg:linear is now deprecated in favor of reg:squarederror.\n",
      "[20:06:56] WARNING: src/objective/regression_obj.cu:152: reg:linear is now deprecated in favor of reg:squarederror.\n",
      "[20:06:56] WARNING: src/objective/regression_obj.cu:152: reg:linear is now deprecated in favor of reg:squarederror.\n",
      "[20:06:56] WARNING: src/objective/regression_obj.cu:152: reg:linear is now deprecated in favor of reg:squarederror.\n",
      "[20:06:56] WARNING: src/objective/regression_obj.cu:152: reg:linear is now deprecated in favor of reg:squarederror.\n",
      "[20:06:56] WARNING: src/objective/regression_obj.cu:152: reg:linear is now deprecated in favor of reg:squarederror.\n",
      "[20:06:56] WARNING: src/objective/regression_obj.cu:152: reg:linear is now deprecated in favor of reg:squarederror.\n",
      "[20:06:56] WARNING: src/objective/regression_obj.cu:152: reg:linear is now deprecated in favor of reg:squarederror.\n",
      "[20:06:56] WARNING: src/objective/regression_obj.cu:152: reg:linear is now deprecated in favor of reg:squarederror.\n",
      "[20:06:56] WARNING: src/objective/regression_obj.cu:152: reg:linear is now deprecated in favor of reg:squarederror.\n",
      "[20:06:56] WARNING: src/objective/regression_obj.cu:152: reg:linear is now deprecated in favor of reg:squarederror.\n",
      "[20:06:56] WARNING: src/objective/regression_obj.cu:152: reg:linear is now deprecated in favor of reg:squarederror.\n",
      "[20:06:56] WARNING: src/objective/regression_obj.cu:152: reg:linear is now deprecated in favor of reg:squarederror.\n",
      "[20:06:56] WARNING: src/objective/regression_obj.cu:152: reg:linear is now deprecated in favor of reg:squarederror.\n",
      "[20:06:56] WARNING: src/objective/regression_obj.cu:152: reg:linear is now deprecated in favor of reg:squarederror.\n",
      "[20:06:56] WARNING: src/objective/regression_obj.cu:152: reg:linear is now deprecated in favor of reg:squarederror.\n",
      "[20:06:56] WARNING: src/objective/regression_obj.cu:152: reg:linear is now deprecated in favor of reg:squarederror.\n",
      "[20:06:56] WARNING: src/objective/regression_obj.cu:152: reg:linear is now deprecated in favor of reg:squarederror.\n",
      "[20:06:56] WARNING: src/objective/regression_obj.cu:152: reg:linear is now deprecated in favor of reg:squarederror.\n",
      "[20:06:56] WARNING: src/objective/regression_obj.cu:152: reg:linear is now deprecated in favor of reg:squarederror.\n",
      "[20:06:56] WARNING: src/objective/regression_obj.cu:152: reg:linear is now deprecated in favor of reg:squarederror.\n",
      "[20:06:56] WARNING: src/objective/regression_obj.cu:152: reg:linear is now deprecated in favor of reg:squarederror.\n",
      "[20:06:56] WARNING: src/objective/regression_obj.cu:152: reg:linear is now deprecated in favor of reg:squarederror.\n",
      "[20:06:56] WARNING: src/objective/regression_obj.cu:152: reg:linear is now deprecated in favor of reg:squarederror.\n",
      "[20:06:56] WARNING: src/objective/regression_obj.cu:152: reg:linear is now deprecated in favor of reg:squarederror.\n",
      "[20:06:56] WARNING: src/objective/regression_obj.cu:152: reg:linear is now deprecated in favor of reg:squarederror.\n",
      "[20:06:56] WARNING: src/objective/regression_obj.cu:152: reg:linear is now deprecated in favor of reg:squarederror.\n",
      "[20:06:56] WARNING: src/objective/regression_obj.cu:152: reg:linear is now deprecated in favor of reg:squarederror.\n",
      "[20:06:57] WARNING: src/objective/regression_obj.cu:152: reg:linear is now deprecated in favor of reg:squarederror.\n",
      "[20:06:57] WARNING: src/objective/regression_obj.cu:152: reg:linear is now deprecated in favor of reg:squarederror.\n",
      "[20:06:57] WARNING: src/objective/regression_obj.cu:152: reg:linear is now deprecated in favor of reg:squarederror.\n",
      "[20:06:57] WARNING: src/objective/regression_obj.cu:152: reg:linear is now deprecated in favor of reg:squarederror.\n",
      "[20:06:57] WARNING: src/objective/regression_obj.cu:152: reg:linear is now deprecated in favor of reg:squarederror.\n",
      "[20:06:57] WARNING: src/objective/regression_obj.cu:152: reg:linear is now deprecated in favor of reg:squarederror.\n",
      "[20:06:57] WARNING: src/objective/regression_obj.cu:152: reg:linear is now deprecated in favor of reg:squarederror.\n",
      "[20:06:57] WARNING: src/objective/regression_obj.cu:152: reg:linear is now deprecated in favor of reg:squarederror.\n",
      "[20:06:57] WARNING: src/objective/regression_obj.cu:152: reg:linear is now deprecated in favor of reg:squarederror.\n",
      "[20:06:57] WARNING: src/objective/regression_obj.cu:152: reg:linear is now deprecated in favor of reg:squarederror.\n",
      "[20:06:57] WARNING: src/objective/regression_obj.cu:152: reg:linear is now deprecated in favor of reg:squarederror.\n",
      "[20:06:57] WARNING: src/objective/regression_obj.cu:152: reg:linear is now deprecated in favor of reg:squarederror.\n",
      "[20:06:57] WARNING: src/objective/regression_obj.cu:152: reg:linear is now deprecated in favor of reg:squarederror.\n",
      "[20:06:57] WARNING: src/objective/regression_obj.cu:152: reg:linear is now deprecated in favor of reg:squarederror.\n",
      "[20:06:57] WARNING: src/objective/regression_obj.cu:152: reg:linear is now deprecated in favor of reg:squarederror.\n",
      "[20:06:57] WARNING: src/objective/regression_obj.cu:152: reg:linear is now deprecated in favor of reg:squarederror.\n",
      "[20:06:57] WARNING: src/objective/regression_obj.cu:152: reg:linear is now deprecated in favor of reg:squarederror.\n",
      "[20:06:57] WARNING: src/objective/regression_obj.cu:152: reg:linear is now deprecated in favor of reg:squarederror.\n",
      "[20:06:57] WARNING: src/objective/regression_obj.cu:152: reg:linear is now deprecated in favor of reg:squarederror.\n",
      "[20:06:57] WARNING: src/objective/regression_obj.cu:152: reg:linear is now deprecated in favor of reg:squarederror.\n",
      "[20:06:57] WARNING: src/objective/regression_obj.cu:152: reg:linear is now deprecated in favor of reg:squarederror.\n",
      "[20:06:57] WARNING: src/objective/regression_obj.cu:152: reg:linear is now deprecated in favor of reg:squarederror.\n",
      "[20:06:57] WARNING: src/objective/regression_obj.cu:152: reg:linear is now deprecated in favor of reg:squarederror.\n",
      "[20:06:57] WARNING: src/objective/regression_obj.cu:152: reg:linear is now deprecated in favor of reg:squarederror.\n",
      "[20:06:57] WARNING: src/objective/regression_obj.cu:152: reg:linear is now deprecated in favor of reg:squarederror.\n",
      "[20:06:57] WARNING: src/objective/regression_obj.cu:152: reg:linear is now deprecated in favor of reg:squarederror.\n",
      "[20:06:57] WARNING: src/objective/regression_obj.cu:152: reg:linear is now deprecated in favor of reg:squarederror.\n",
      "[20:06:57] WARNING: src/objective/regression_obj.cu:152: reg:linear is now deprecated in favor of reg:squarederror.\n",
      "[20:06:57] WARNING: src/objective/regression_obj.cu:152: reg:linear is now deprecated in favor of reg:squarederror.\n",
      "[20:06:57] WARNING: src/objective/regression_obj.cu:152: reg:linear is now deprecated in favor of reg:squarederror.\n",
      "[20:06:57] WARNING: src/objective/regression_obj.cu:152: reg:linear is now deprecated in favor of reg:squarederror.\n",
      "[20:06:57] WARNING: src/objective/regression_obj.cu:152: reg:linear is now deprecated in favor of reg:squarederror.\n"
     ]
    },
    {
     "name": "stdout",
     "output_type": "stream",
     "text": [
      "[20:06:58] WARNING: src/objective/regression_obj.cu:152: reg:linear is now deprecated in favor of reg:squarederror.\n",
      "[20:06:58] WARNING: src/objective/regression_obj.cu:152: reg:linear is now deprecated in favor of reg:squarederror.\n",
      "[20:06:58] WARNING: src/objective/regression_obj.cu:152: reg:linear is now deprecated in favor of reg:squarederror.\n",
      "[20:06:58] WARNING: src/objective/regression_obj.cu:152: reg:linear is now deprecated in favor of reg:squarederror.\n",
      "[20:06:58] WARNING: src/objective/regression_obj.cu:152: reg:linear is now deprecated in favor of reg:squarederror.\n",
      "[20:06:58] WARNING: src/objective/regression_obj.cu:152: reg:linear is now deprecated in favor of reg:squarederror.\n",
      "[20:06:58] WARNING: src/objective/regression_obj.cu:152: reg:linear is now deprecated in favor of reg:squarederror.\n",
      "[20:06:58] WARNING: src/objective/regression_obj.cu:152: reg:linear is now deprecated in favor of reg:squarederror.\n",
      "[20:06:58] WARNING: src/objective/regression_obj.cu:152: reg:linear is now deprecated in favor of reg:squarederror.\n",
      "[20:06:58] WARNING: src/objective/regression_obj.cu:152: reg:linear is now deprecated in favor of reg:squarederror.\n",
      "[20:06:58] WARNING: src/objective/regression_obj.cu:152: reg:linear is now deprecated in favor of reg:squarederror.\n",
      "[20:06:58] WARNING: src/objective/regression_obj.cu:152: reg:linear is now deprecated in favor of reg:squarederror.\n",
      "[20:06:58] WARNING: src/objective/regression_obj.cu:152: reg:linear is now deprecated in favor of reg:squarederror.\n",
      "[20:06:58] WARNING: src/objective/regression_obj.cu:152: reg:linear is now deprecated in favor of reg:squarederror.\n",
      "[20:06:58] WARNING: src/objective/regression_obj.cu:152: reg:linear is now deprecated in favor of reg:squarederror.\n",
      "[20:06:58] WARNING: src/objective/regression_obj.cu:152: reg:linear is now deprecated in favor of reg:squarederror.\n",
      "[20:06:58] WARNING: src/objective/regression_obj.cu:152: reg:linear is now deprecated in favor of reg:squarederror.\n",
      "[20:06:58] WARNING: src/objective/regression_obj.cu:152: reg:linear is now deprecated in favor of reg:squarederror.\n",
      "[20:06:58] WARNING: src/objective/regression_obj.cu:152: reg:linear is now deprecated in favor of reg:squarederror.\n",
      "[20:06:58] WARNING: src/objective/regression_obj.cu:152: reg:linear is now deprecated in favor of reg:squarederror.\n",
      "[20:06:58] WARNING: src/objective/regression_obj.cu:152: reg:linear is now deprecated in favor of reg:squarederror.\n",
      "[20:06:58] WARNING: src/objective/regression_obj.cu:152: reg:linear is now deprecated in favor of reg:squarederror.\n",
      "[20:06:58] WARNING: src/objective/regression_obj.cu:152: reg:linear is now deprecated in favor of reg:squarederror.\n",
      "[20:06:58] WARNING: src/objective/regression_obj.cu:152: reg:linear is now deprecated in favor of reg:squarederror.\n",
      "[20:06:58] WARNING: src/objective/regression_obj.cu:152: reg:linear is now deprecated in favor of reg:squarederror.\n",
      "[20:06:59] WARNING: src/objective/regression_obj.cu:152: reg:linear is now deprecated in favor of reg:squarederror.\n",
      "[20:06:59] WARNING: src/objective/regression_obj.cu:152: reg:linear is now deprecated in favor of reg:squarederror.\n",
      "[20:06:59] WARNING: src/objective/regression_obj.cu:152: reg:linear is now deprecated in favor of reg:squarederror.\n",
      "[20:06:59] WARNING: src/objective/regression_obj.cu:152: reg:linear is now deprecated in favor of reg:squarederror.\n",
      "[20:06:59] WARNING: src/objective/regression_obj.cu:152: reg:linear is now deprecated in favor of reg:squarederror.\n",
      "[20:06:59] WARNING: src/objective/regression_obj.cu:152: reg:linear is now deprecated in favor of reg:squarederror.\n",
      "[20:06:59] WARNING: src/objective/regression_obj.cu:152: reg:linear is now deprecated in favor of reg:squarederror.\n",
      "[20:06:59] WARNING: src/objective/regression_obj.cu:152: reg:linear is now deprecated in favor of reg:squarederror.\n",
      "[20:06:59] WARNING: src/objective/regression_obj.cu:152: reg:linear is now deprecated in favor of reg:squarederror.\n",
      "[20:06:59] WARNING: src/objective/regression_obj.cu:152: reg:linear is now deprecated in favor of reg:squarederror.\n",
      "[20:06:59] WARNING: src/objective/regression_obj.cu:152: reg:linear is now deprecated in favor of reg:squarederror.\n",
      "[20:06:59] WARNING: src/objective/regression_obj.cu:152: reg:linear is now deprecated in favor of reg:squarederror.\n",
      "[20:06:59] WARNING: src/objective/regression_obj.cu:152: reg:linear is now deprecated in favor of reg:squarederror.\n",
      "[20:06:59] WARNING: src/objective/regression_obj.cu:152: reg:linear is now deprecated in favor of reg:squarederror.\n",
      "[20:06:59] WARNING: src/objective/regression_obj.cu:152: reg:linear is now deprecated in favor of reg:squarederror.\n",
      "[20:06:59] WARNING: src/objective/regression_obj.cu:152: reg:linear is now deprecated in favor of reg:squarederror.\n",
      "[20:06:59] WARNING: src/objective/regression_obj.cu:152: reg:linear is now deprecated in favor of reg:squarederror.\n",
      "[20:06:59] WARNING: src/objective/regression_obj.cu:152: reg:linear is now deprecated in favor of reg:squarederror.\n",
      "[20:06:59] WARNING: src/objective/regression_obj.cu:152: reg:linear is now deprecated in favor of reg:squarederror.\n",
      "[20:06:59] WARNING: src/objective/regression_obj.cu:152: reg:linear is now deprecated in favor of reg:squarederror.\n",
      "[20:06:59] WARNING: src/objective/regression_obj.cu:152: reg:linear is now deprecated in favor of reg:squarederror.\n",
      "[20:06:59] WARNING: src/objective/regression_obj.cu:152: reg:linear is now deprecated in favor of reg:squarederror.\n",
      "[20:06:59] WARNING: src/objective/regression_obj.cu:152: reg:linear is now deprecated in favor of reg:squarederror.\n",
      "[20:06:59] WARNING: src/objective/regression_obj.cu:152: reg:linear is now deprecated in favor of reg:squarederror.\n",
      "[20:06:59] WARNING: src/objective/regression_obj.cu:152: reg:linear is now deprecated in favor of reg:squarederror.\n",
      "[20:06:59] WARNING: src/objective/regression_obj.cu:152: reg:linear is now deprecated in favor of reg:squarederror.\n",
      "[20:06:59] WARNING: src/objective/regression_obj.cu:152: reg:linear is now deprecated in favor of reg:squarederror.\n",
      "[20:06:59] WARNING: src/objective/regression_obj.cu:152: reg:linear is now deprecated in favor of reg:squarederror.\n",
      "[20:06:59] WARNING: src/objective/regression_obj.cu:152: reg:linear is now deprecated in favor of reg:squarederror.\n",
      "[20:06:59] WARNING: src/objective/regression_obj.cu:152: reg:linear is now deprecated in favor of reg:squarederror.\n",
      "[20:06:59] WARNING: src/objective/regression_obj.cu:152: reg:linear is now deprecated in favor of reg:squarederror.\n",
      "[20:06:59] WARNING: src/objective/regression_obj.cu:152: reg:linear is now deprecated in favor of reg:squarederror.\n",
      "[20:06:59] WARNING: src/objective/regression_obj.cu:152: reg:linear is now deprecated in favor of reg:squarederror.\n",
      "[20:06:59] WARNING: src/objective/regression_obj.cu:152: reg:linear is now deprecated in favor of reg:squarederror.\n",
      "[20:06:59] WARNING: src/objective/regression_obj.cu:152: reg:linear is now deprecated in favor of reg:squarederror.\n",
      "[20:06:59] WARNING: src/objective/regression_obj.cu:152: reg:linear is now deprecated in favor of reg:squarederror.\n",
      "[20:07:00] WARNING: src/objective/regression_obj.cu:152: reg:linear is now deprecated in favor of reg:squarederror.\n",
      "[20:07:00] WARNING: src/objective/regression_obj.cu:152: reg:linear is now deprecated in favor of reg:squarederror.\n",
      "[20:07:00] WARNING: src/objective/regression_obj.cu:152: reg:linear is now deprecated in favor of reg:squarederror.\n",
      "[20:07:00] WARNING: src/objective/regression_obj.cu:152: reg:linear is now deprecated in favor of reg:squarederror.\n",
      "[20:07:00] WARNING: src/objective/regression_obj.cu:152: reg:linear is now deprecated in favor of reg:squarederror.\n",
      "[20:07:00] WARNING: src/objective/regression_obj.cu:152: reg:linear is now deprecated in favor of reg:squarederror.\n",
      "[20:07:00] WARNING: src/objective/regression_obj.cu:152: reg:linear is now deprecated in favor of reg:squarederror.\n",
      "[20:07:00] WARNING: src/objective/regression_obj.cu:152: reg:linear is now deprecated in favor of reg:squarederror.\n",
      "[20:07:00] WARNING: src/objective/regression_obj.cu:152: reg:linear is now deprecated in favor of reg:squarederror.\n",
      "[20:07:00] WARNING: src/objective/regression_obj.cu:152: reg:linear is now deprecated in favor of reg:squarederror.\n",
      "[20:07:00] WARNING: src/objective/regression_obj.cu:152: reg:linear is now deprecated in favor of reg:squarederror.\n",
      "[20:07:00] WARNING: src/objective/regression_obj.cu:152: reg:linear is now deprecated in favor of reg:squarederror.\n",
      "[20:07:00] WARNING: src/objective/regression_obj.cu:152: reg:linear is now deprecated in favor of reg:squarederror.\n",
      "[20:07:00] WARNING: src/objective/regression_obj.cu:152: reg:linear is now deprecated in favor of reg:squarederror.\n",
      "[20:07:00] WARNING: src/objective/regression_obj.cu:152: reg:linear is now deprecated in favor of reg:squarederror.\n",
      "[20:07:00] WARNING: src/objective/regression_obj.cu:152: reg:linear is now deprecated in favor of reg:squarederror.\n",
      "[20:07:00] WARNING: src/objective/regression_obj.cu:152: reg:linear is now deprecated in favor of reg:squarederror.\n",
      "[20:07:00] WARNING: src/objective/regression_obj.cu:152: reg:linear is now deprecated in favor of reg:squarederror.\n",
      "[20:07:00] WARNING: src/objective/regression_obj.cu:152: reg:linear is now deprecated in favor of reg:squarederror.\n"
     ]
    },
    {
     "name": "stdout",
     "output_type": "stream",
     "text": [
      "[20:07:00] WARNING: src/objective/regression_obj.cu:152: reg:linear is now deprecated in favor of reg:squarederror.\n",
      "[20:07:00] WARNING: src/objective/regression_obj.cu:152: reg:linear is now deprecated in favor of reg:squarederror.\n",
      "[20:07:00] WARNING: src/objective/regression_obj.cu:152: reg:linear is now deprecated in favor of reg:squarederror.\n",
      "[20:07:00] WARNING: src/objective/regression_obj.cu:152: reg:linear is now deprecated in favor of reg:squarederror.\n",
      "[20:07:01] WARNING: src/objective/regression_obj.cu:152: reg:linear is now deprecated in favor of reg:squarederror.\n",
      "[20:07:01] WARNING: src/objective/regression_obj.cu:152: reg:linear is now deprecated in favor of reg:squarederror.\n",
      "[20:07:01] WARNING: src/objective/regression_obj.cu:152: reg:linear is now deprecated in favor of reg:squarederror.\n",
      "[20:07:01] WARNING: src/objective/regression_obj.cu:152: reg:linear is now deprecated in favor of reg:squarederror.\n",
      "[20:07:01] WARNING: src/objective/regression_obj.cu:152: reg:linear is now deprecated in favor of reg:squarederror.\n",
      "[20:07:01] WARNING: src/objective/regression_obj.cu:152: reg:linear is now deprecated in favor of reg:squarederror.\n",
      "[20:07:01] WARNING: src/objective/regression_obj.cu:152: reg:linear is now deprecated in favor of reg:squarederror.\n",
      "[20:07:01] WARNING: src/objective/regression_obj.cu:152: reg:linear is now deprecated in favor of reg:squarederror.\n",
      "[20:07:01] WARNING: src/objective/regression_obj.cu:152: reg:linear is now deprecated in favor of reg:squarederror.\n",
      "[20:07:01] WARNING: src/objective/regression_obj.cu:152: reg:linear is now deprecated in favor of reg:squarederror.\n",
      "[20:07:01] WARNING: src/objective/regression_obj.cu:152: reg:linear is now deprecated in favor of reg:squarederror.\n",
      "[20:07:01] WARNING: src/objective/regression_obj.cu:152: reg:linear is now deprecated in favor of reg:squarederror.\n",
      "[20:07:01] WARNING: src/objective/regression_obj.cu:152: reg:linear is now deprecated in favor of reg:squarederror.\n",
      "[20:07:01] WARNING: src/objective/regression_obj.cu:152: reg:linear is now deprecated in favor of reg:squarederror.\n",
      "[20:07:01] WARNING: src/objective/regression_obj.cu:152: reg:linear is now deprecated in favor of reg:squarederror.\n",
      "[20:07:01] WARNING: src/objective/regression_obj.cu:152: reg:linear is now deprecated in favor of reg:squarederror.\n",
      "[20:07:01] WARNING: src/objective/regression_obj.cu:152: reg:linear is now deprecated in favor of reg:squarederror.\n",
      "[20:07:01] WARNING: src/objective/regression_obj.cu:152: reg:linear is now deprecated in favor of reg:squarederror.\n",
      "[20:07:01] WARNING: src/objective/regression_obj.cu:152: reg:linear is now deprecated in favor of reg:squarederror.\n",
      "[20:07:01] WARNING: src/objective/regression_obj.cu:152: reg:linear is now deprecated in favor of reg:squarederror.\n",
      "[20:07:01] WARNING: src/objective/regression_obj.cu:152: reg:linear is now deprecated in favor of reg:squarederror.\n",
      "[20:07:01] WARNING: src/objective/regression_obj.cu:152: reg:linear is now deprecated in favor of reg:squarederror.\n",
      "[20:07:01] WARNING: src/objective/regression_obj.cu:152: reg:linear is now deprecated in favor of reg:squarederror.\n",
      "[20:07:01] WARNING: src/objective/regression_obj.cu:152: reg:linear is now deprecated in favor of reg:squarederror.\n",
      "[20:07:01] WARNING: src/objective/regression_obj.cu:152: reg:linear is now deprecated in favor of reg:squarederror.\n",
      "[20:07:01] WARNING: src/objective/regression_obj.cu:152: reg:linear is now deprecated in favor of reg:squarederror.\n",
      "[20:07:01] WARNING: src/objective/regression_obj.cu:152: reg:linear is now deprecated in favor of reg:squarederror.\n",
      "[20:07:01] WARNING: src/objective/regression_obj.cu:152: reg:linear is now deprecated in favor of reg:squarederror.\n",
      "[20:07:01] WARNING: src/objective/regression_obj.cu:152: reg:linear is now deprecated in favor of reg:squarederror.\n",
      "[20:07:01] WARNING: src/objective/regression_obj.cu:152: reg:linear is now deprecated in favor of reg:squarederror.\n",
      "[20:07:01] WARNING: src/objective/regression_obj.cu:152: reg:linear is now deprecated in favor of reg:squarederror.\n",
      "[20:07:01] WARNING: src/objective/regression_obj.cu:152: reg:linear is now deprecated in favor of reg:squarederror.\n",
      "[20:07:01] WARNING: src/objective/regression_obj.cu:152: reg:linear is now deprecated in favor of reg:squarederror.\n",
      "[20:07:01] WARNING: src/objective/regression_obj.cu:152: reg:linear is now deprecated in favor of reg:squarederror.\n",
      "[20:07:01] WARNING: src/objective/regression_obj.cu:152: reg:linear is now deprecated in favor of reg:squarederror.\n",
      "[20:07:01] WARNING: src/objective/regression_obj.cu:152: reg:linear is now deprecated in favor of reg:squarederror.\n",
      "[20:07:01] WARNING: src/objective/regression_obj.cu:152: reg:linear is now deprecated in favor of reg:squarederror.\n",
      "[20:07:01] WARNING: src/objective/regression_obj.cu:152: reg:linear is now deprecated in favor of reg:squarederror.\n",
      "[20:07:02] WARNING: src/objective/regression_obj.cu:152: reg:linear is now deprecated in favor of reg:squarederror.\n",
      "[20:07:02] WARNING: src/objective/regression_obj.cu:152: reg:linear is now deprecated in favor of reg:squarederror.\n",
      "[20:07:02] WARNING: src/objective/regression_obj.cu:152: reg:linear is now deprecated in favor of reg:squarederror.\n",
      "[20:07:02] WARNING: src/objective/regression_obj.cu:152: reg:linear is now deprecated in favor of reg:squarederror.\n",
      "[20:07:02] WARNING: src/objective/regression_obj.cu:152: reg:linear is now deprecated in favor of reg:squarederror.\n",
      "[20:07:02] WARNING: src/objective/regression_obj.cu:152: reg:linear is now deprecated in favor of reg:squarederror.\n",
      "[20:07:02] WARNING: src/objective/regression_obj.cu:152: reg:linear is now deprecated in favor of reg:squarederror.\n",
      "[20:07:02] WARNING: src/objective/regression_obj.cu:152: reg:linear is now deprecated in favor of reg:squarederror.\n",
      "[20:07:02] WARNING: src/objective/regression_obj.cu:152: reg:linear is now deprecated in favor of reg:squarederror.\n",
      "[20:07:02] WARNING: src/objective/regression_obj.cu:152: reg:linear is now deprecated in favor of reg:squarederror.\n",
      "[20:07:02] WARNING: src/objective/regression_obj.cu:152: reg:linear is now deprecated in favor of reg:squarederror.\n",
      "[20:07:02] WARNING: src/objective/regression_obj.cu:152: reg:linear is now deprecated in favor of reg:squarederror.\n",
      "[20:07:02] WARNING: src/objective/regression_obj.cu:152: reg:linear is now deprecated in favor of reg:squarederror.\n",
      "[20:07:02] WARNING: src/objective/regression_obj.cu:152: reg:linear is now deprecated in favor of reg:squarederror.\n",
      "[20:07:02] WARNING: src/objective/regression_obj.cu:152: reg:linear is now deprecated in favor of reg:squarederror.\n",
      "[20:07:02] WARNING: src/objective/regression_obj.cu:152: reg:linear is now deprecated in favor of reg:squarederror.\n",
      "[20:07:02] WARNING: src/objective/regression_obj.cu:152: reg:linear is now deprecated in favor of reg:squarederror.\n",
      "[20:07:02] WARNING: src/objective/regression_obj.cu:152: reg:linear is now deprecated in favor of reg:squarederror.\n",
      "[20:07:02] WARNING: src/objective/regression_obj.cu:152: reg:linear is now deprecated in favor of reg:squarederror.\n",
      "[20:07:02] WARNING: src/objective/regression_obj.cu:152: reg:linear is now deprecated in favor of reg:squarederror.\n",
      "[20:07:02] WARNING: src/objective/regression_obj.cu:152: reg:linear is now deprecated in favor of reg:squarederror.\n",
      "[20:07:02] WARNING: src/objective/regression_obj.cu:152: reg:linear is now deprecated in favor of reg:squarederror.\n",
      "[20:07:02] WARNING: src/objective/regression_obj.cu:152: reg:linear is now deprecated in favor of reg:squarederror.\n",
      "[20:07:02] WARNING: src/objective/regression_obj.cu:152: reg:linear is now deprecated in favor of reg:squarederror.\n",
      "[20:07:03] WARNING: src/objective/regression_obj.cu:152: reg:linear is now deprecated in favor of reg:squarederror.\n",
      "[20:07:03] WARNING: src/objective/regression_obj.cu:152: reg:linear is now deprecated in favor of reg:squarederror.\n",
      "[20:07:03] WARNING: src/objective/regression_obj.cu:152: reg:linear is now deprecated in favor of reg:squarederror.\n",
      "[20:07:03] WARNING: src/objective/regression_obj.cu:152: reg:linear is now deprecated in favor of reg:squarederror.\n",
      "[20:07:03] WARNING: src/objective/regression_obj.cu:152: reg:linear is now deprecated in favor of reg:squarederror.\n",
      "[20:07:03] WARNING: src/objective/regression_obj.cu:152: reg:linear is now deprecated in favor of reg:squarederror.\n",
      "[20:07:03] WARNING: src/objective/regression_obj.cu:152: reg:linear is now deprecated in favor of reg:squarederror.\n",
      "[20:07:03] WARNING: src/objective/regression_obj.cu:152: reg:linear is now deprecated in favor of reg:squarederror.\n",
      "[20:07:03] WARNING: src/objective/regression_obj.cu:152: reg:linear is now deprecated in favor of reg:squarederror.\n",
      "[20:07:03] WARNING: src/objective/regression_obj.cu:152: reg:linear is now deprecated in favor of reg:squarederror.\n",
      "[20:07:03] WARNING: src/objective/regression_obj.cu:152: reg:linear is now deprecated in favor of reg:squarederror.\n"
     ]
    },
    {
     "name": "stdout",
     "output_type": "stream",
     "text": [
      "[20:07:03] WARNING: src/objective/regression_obj.cu:152: reg:linear is now deprecated in favor of reg:squarederror.\n",
      "[20:07:03] WARNING: src/objective/regression_obj.cu:152: reg:linear is now deprecated in favor of reg:squarederror.\n",
      "[20:07:03] WARNING: src/objective/regression_obj.cu:152: reg:linear is now deprecated in favor of reg:squarederror.\n",
      "[20:07:03] WARNING: src/objective/regression_obj.cu:152: reg:linear is now deprecated in favor of reg:squarederror.\n",
      "[20:07:03] WARNING: src/objective/regression_obj.cu:152: reg:linear is now deprecated in favor of reg:squarederror.\n",
      "[20:07:03] WARNING: src/objective/regression_obj.cu:152: reg:linear is now deprecated in favor of reg:squarederror.\n",
      "[20:07:03] WARNING: src/objective/regression_obj.cu:152: reg:linear is now deprecated in favor of reg:squarederror.\n",
      "[20:07:03] WARNING: src/objective/regression_obj.cu:152: reg:linear is now deprecated in favor of reg:squarederror.\n",
      "[20:07:03] WARNING: src/objective/regression_obj.cu:152: reg:linear is now deprecated in favor of reg:squarederror.\n",
      "[20:07:03] WARNING: src/objective/regression_obj.cu:152: reg:linear is now deprecated in favor of reg:squarederror.\n",
      "[20:07:04] WARNING: src/objective/regression_obj.cu:152: reg:linear is now deprecated in favor of reg:squarederror.\n",
      "[20:07:04] WARNING: src/objective/regression_obj.cu:152: reg:linear is now deprecated in favor of reg:squarederror.\n",
      "[20:07:04] WARNING: src/objective/regression_obj.cu:152: reg:linear is now deprecated in favor of reg:squarederror.\n",
      "[20:07:04] WARNING: src/objective/regression_obj.cu:152: reg:linear is now deprecated in favor of reg:squarederror.\n",
      "[20:07:04] WARNING: src/objective/regression_obj.cu:152: reg:linear is now deprecated in favor of reg:squarederror.\n",
      "[20:07:04] WARNING: src/objective/regression_obj.cu:152: reg:linear is now deprecated in favor of reg:squarederror.\n",
      "[20:07:04] WARNING: src/objective/regression_obj.cu:152: reg:linear is now deprecated in favor of reg:squarederror.\n",
      "[20:07:04] WARNING: src/objective/regression_obj.cu:152: reg:linear is now deprecated in favor of reg:squarederror.\n",
      "[20:07:04] WARNING: src/objective/regression_obj.cu:152: reg:linear is now deprecated in favor of reg:squarederror.\n",
      "[20:07:04] WARNING: src/objective/regression_obj.cu:152: reg:linear is now deprecated in favor of reg:squarederror.\n",
      "[20:07:04] WARNING: src/objective/regression_obj.cu:152: reg:linear is now deprecated in favor of reg:squarederror.\n",
      "[20:07:04] WARNING: src/objective/regression_obj.cu:152: reg:linear is now deprecated in favor of reg:squarederror.\n",
      "[20:07:04] WARNING: src/objective/regression_obj.cu:152: reg:linear is now deprecated in favor of reg:squarederror.\n",
      "[20:07:04] WARNING: src/objective/regression_obj.cu:152: reg:linear is now deprecated in favor of reg:squarederror.\n",
      "[20:07:04] WARNING: src/objective/regression_obj.cu:152: reg:linear is now deprecated in favor of reg:squarederror.\n",
      "[20:07:04] WARNING: src/objective/regression_obj.cu:152: reg:linear is now deprecated in favor of reg:squarederror.\n",
      "[20:07:04] WARNING: src/objective/regression_obj.cu:152: reg:linear is now deprecated in favor of reg:squarederror.\n",
      "[20:07:04] WARNING: src/objective/regression_obj.cu:152: reg:linear is now deprecated in favor of reg:squarederror.\n",
      "[20:07:04] WARNING: src/objective/regression_obj.cu:152: reg:linear is now deprecated in favor of reg:squarederror.\n",
      "[20:07:04] WARNING: src/objective/regression_obj.cu:152: reg:linear is now deprecated in favor of reg:squarederror.\n",
      "[20:07:04] WARNING: src/objective/regression_obj.cu:152: reg:linear is now deprecated in favor of reg:squarederror.\n",
      "[20:07:04] WARNING: src/objective/regression_obj.cu:152: reg:linear is now deprecated in favor of reg:squarederror.\n",
      "[20:07:04] WARNING: src/objective/regression_obj.cu:152: reg:linear is now deprecated in favor of reg:squarederror.\n",
      "[20:07:04] WARNING: src/objective/regression_obj.cu:152: reg:linear is now deprecated in favor of reg:squarederror.\n",
      "[20:07:04] WARNING: src/objective/regression_obj.cu:152: reg:linear is now deprecated in favor of reg:squarederror.\n",
      "[20:07:04] WARNING: src/objective/regression_obj.cu:152: reg:linear is now deprecated in favor of reg:squarederror.\n",
      "[20:07:04] WARNING: src/objective/regression_obj.cu:152: reg:linear is now deprecated in favor of reg:squarederror.\n",
      "[20:07:04] WARNING: src/objective/regression_obj.cu:152: reg:linear is now deprecated in favor of reg:squarederror.\n",
      "[20:07:04] WARNING: src/objective/regression_obj.cu:152: reg:linear is now deprecated in favor of reg:squarederror.\n",
      "[20:07:04] WARNING: src/objective/regression_obj.cu:152: reg:linear is now deprecated in favor of reg:squarederror.\n",
      "[20:07:04] WARNING: src/objective/regression_obj.cu:152: reg:linear is now deprecated in favor of reg:squarederror.\n",
      "[20:07:04] WARNING: src/objective/regression_obj.cu:152: reg:linear is now deprecated in favor of reg:squarederror.\n",
      "[20:07:04] WARNING: src/objective/regression_obj.cu:152: reg:linear is now deprecated in favor of reg:squarederror.\n",
      "[20:07:04] WARNING: src/objective/regression_obj.cu:152: reg:linear is now deprecated in favor of reg:squarederror.\n",
      "[20:07:04] WARNING: src/objective/regression_obj.cu:152: reg:linear is now deprecated in favor of reg:squarederror.\n",
      "[20:07:04] WARNING: src/objective/regression_obj.cu:152: reg:linear is now deprecated in favor of reg:squarederror.\n",
      "[20:07:04] WARNING: src/objective/regression_obj.cu:152: reg:linear is now deprecated in favor of reg:squarederror.\n",
      "[20:07:04] WARNING: src/objective/regression_obj.cu:152: reg:linear is now deprecated in favor of reg:squarederror.\n",
      "[20:07:04] WARNING: src/objective/regression_obj.cu:152: reg:linear is now deprecated in favor of reg:squarederror.\n",
      "[20:07:05] WARNING: src/objective/regression_obj.cu:152: reg:linear is now deprecated in favor of reg:squarederror.\n",
      "[20:07:05] WARNING: src/objective/regression_obj.cu:152: reg:linear is now deprecated in favor of reg:squarederror.\n",
      "[20:07:05] WARNING: src/objective/regression_obj.cu:152: reg:linear is now deprecated in favor of reg:squarederror.\n",
      "[20:07:05] WARNING: src/objective/regression_obj.cu:152: reg:linear is now deprecated in favor of reg:squarederror.\n",
      "[20:07:05] WARNING: src/objective/regression_obj.cu:152: reg:linear is now deprecated in favor of reg:squarederror.\n",
      "[20:07:05] WARNING: src/objective/regression_obj.cu:152: reg:linear is now deprecated in favor of reg:squarederror.\n",
      "[20:07:05] WARNING: src/objective/regression_obj.cu:152: reg:linear is now deprecated in favor of reg:squarederror.\n",
      "[20:07:05] WARNING: src/objective/regression_obj.cu:152: reg:linear is now deprecated in favor of reg:squarederror.\n",
      "[20:07:05] WARNING: src/objective/regression_obj.cu:152: reg:linear is now deprecated in favor of reg:squarederror.\n",
      "[20:07:05] WARNING: src/objective/regression_obj.cu:152: reg:linear is now deprecated in favor of reg:squarederror.\n",
      "[20:07:05] WARNING: src/objective/regression_obj.cu:152: reg:linear is now deprecated in favor of reg:squarederror.\n",
      "[20:07:05] WARNING: src/objective/regression_obj.cu:152: reg:linear is now deprecated in favor of reg:squarederror.\n",
      "[20:07:05] WARNING: src/objective/regression_obj.cu:152: reg:linear is now deprecated in favor of reg:squarederror.\n",
      "[20:07:05] WARNING: src/objective/regression_obj.cu:152: reg:linear is now deprecated in favor of reg:squarederror.\n",
      "[20:07:05] WARNING: src/objective/regression_obj.cu:152: reg:linear is now deprecated in favor of reg:squarederror.\n",
      "[20:07:05] WARNING: src/objective/regression_obj.cu:152: reg:linear is now deprecated in favor of reg:squarederror.\n",
      "[20:07:05] WARNING: src/objective/regression_obj.cu:152: reg:linear is now deprecated in favor of reg:squarederror.\n",
      "[20:07:05] WARNING: src/objective/regression_obj.cu:152: reg:linear is now deprecated in favor of reg:squarederror.\n",
      "[20:07:05] WARNING: src/objective/regression_obj.cu:152: reg:linear is now deprecated in favor of reg:squarederror.\n",
      "[20:07:05] WARNING: src/objective/regression_obj.cu:152: reg:linear is now deprecated in favor of reg:squarederror.\n",
      "[20:07:05] WARNING: src/objective/regression_obj.cu:152: reg:linear is now deprecated in favor of reg:squarederror.\n",
      "[20:07:05] WARNING: src/objective/regression_obj.cu:152: reg:linear is now deprecated in favor of reg:squarederror.\n"
     ]
    },
    {
     "name": "stdout",
     "output_type": "stream",
     "text": [
      "[20:07:05] WARNING: src/objective/regression_obj.cu:152: reg:linear is now deprecated in favor of reg:squarederror.\n",
      "[20:07:06] WARNING: src/objective/regression_obj.cu:152: reg:linear is now deprecated in favor of reg:squarederror.\n",
      "[20:07:06] WARNING: src/objective/regression_obj.cu:152: reg:linear is now deprecated in favor of reg:squarederror.\n",
      "[20:07:06] WARNING: src/objective/regression_obj.cu:152: reg:linear is now deprecated in favor of reg:squarederror.\n",
      "[20:07:06] WARNING: src/objective/regression_obj.cu:152: reg:linear is now deprecated in favor of reg:squarederror.\n",
      "[20:07:06] WARNING: src/objective/regression_obj.cu:152: reg:linear is now deprecated in favor of reg:squarederror.\n",
      "[20:07:06] WARNING: src/objective/regression_obj.cu:152: reg:linear is now deprecated in favor of reg:squarederror.\n",
      "[20:07:06] WARNING: src/objective/regression_obj.cu:152: reg:linear is now deprecated in favor of reg:squarederror.\n",
      "[20:07:06] WARNING: src/objective/regression_obj.cu:152: reg:linear is now deprecated in favor of reg:squarederror.\n",
      "[20:07:06] WARNING: src/objective/regression_obj.cu:152: reg:linear is now deprecated in favor of reg:squarederror.\n",
      "[20:07:06] WARNING: src/objective/regression_obj.cu:152: reg:linear is now deprecated in favor of reg:squarederror.\n",
      "[20:07:06] WARNING: src/objective/regression_obj.cu:152: reg:linear is now deprecated in favor of reg:squarederror.\n",
      "[20:07:06] WARNING: src/objective/regression_obj.cu:152: reg:linear is now deprecated in favor of reg:squarederror.\n",
      "[20:07:06] WARNING: src/objective/regression_obj.cu:152: reg:linear is now deprecated in favor of reg:squarederror.\n",
      "[20:07:06] WARNING: src/objective/regression_obj.cu:152: reg:linear is now deprecated in favor of reg:squarederror.\n",
      "[20:07:06] WARNING: src/objective/regression_obj.cu:152: reg:linear is now deprecated in favor of reg:squarederror.\n",
      "[20:07:06] WARNING: src/objective/regression_obj.cu:152: reg:linear is now deprecated in favor of reg:squarederror.\n",
      "[20:07:06] WARNING: src/objective/regression_obj.cu:152: reg:linear is now deprecated in favor of reg:squarederror.\n",
      "[20:07:06] WARNING: src/objective/regression_obj.cu:152: reg:linear is now deprecated in favor of reg:squarederror.\n",
      "[20:07:06] WARNING: src/objective/regression_obj.cu:152: reg:linear is now deprecated in favor of reg:squarederror.\n",
      "[20:07:06] WARNING: src/objective/regression_obj.cu:152: reg:linear is now deprecated in favor of reg:squarederror.\n",
      "Best Parameters: {'alpha': 5, 'max_depth': 5, 'n_estimators': 100}\n",
      "\n",
      "-0.757 (+/-0.087) for {'alpha': 5, 'max_depth': 1, 'n_estimators': 5}\n",
      "-0.049 (+/-0.066) for {'alpha': 5, 'max_depth': 1, 'n_estimators': 10}\n",
      "0.393 (+/-0.041) for {'alpha': 5, 'max_depth': 1, 'n_estimators': 50}\n",
      "0.423 (+/-0.049) for {'alpha': 5, 'max_depth': 1, 'n_estimators': 100}\n",
      "-0.715 (+/-0.078) for {'alpha': 5, 'max_depth': 3, 'n_estimators': 5}\n",
      "0.017 (+/-0.064) for {'alpha': 5, 'max_depth': 3, 'n_estimators': 10}\n",
      "0.464 (+/-0.064) for {'alpha': 5, 'max_depth': 3, 'n_estimators': 50}\n",
      "0.48 (+/-0.066) for {'alpha': 5, 'max_depth': 3, 'n_estimators': 100}\n",
      "-0.696 (+/-0.072) for {'alpha': 5, 'max_depth': 4, 'n_estimators': 5}\n",
      "0.041 (+/-0.063) for {'alpha': 5, 'max_depth': 4, 'n_estimators': 10}\n",
      "0.487 (+/-0.065) for {'alpha': 5, 'max_depth': 4, 'n_estimators': 50}\n",
      "0.491 (+/-0.073) for {'alpha': 5, 'max_depth': 4, 'n_estimators': 100}\n",
      "-0.687 (+/-0.065) for {'alpha': 5, 'max_depth': 5, 'n_estimators': 5}\n",
      "0.059 (+/-0.061) for {'alpha': 5, 'max_depth': 5, 'n_estimators': 10}\n",
      "0.495 (+/-0.075) for {'alpha': 5, 'max_depth': 5, 'n_estimators': 50}\n",
      "0.496 (+/-0.072) for {'alpha': 5, 'max_depth': 5, 'n_estimators': 100}\n",
      "-0.757 (+/-0.087) for {'alpha': 10, 'max_depth': 1, 'n_estimators': 5}\n",
      "-0.049 (+/-0.066) for {'alpha': 10, 'max_depth': 1, 'n_estimators': 10}\n",
      "0.393 (+/-0.041) for {'alpha': 10, 'max_depth': 1, 'n_estimators': 50}\n",
      "0.423 (+/-0.049) for {'alpha': 10, 'max_depth': 1, 'n_estimators': 100}\n",
      "-0.715 (+/-0.078) for {'alpha': 10, 'max_depth': 3, 'n_estimators': 5}\n",
      "0.017 (+/-0.064) for {'alpha': 10, 'max_depth': 3, 'n_estimators': 10}\n",
      "0.464 (+/-0.064) for {'alpha': 10, 'max_depth': 3, 'n_estimators': 50}\n",
      "0.48 (+/-0.066) for {'alpha': 10, 'max_depth': 3, 'n_estimators': 100}\n",
      "-0.696 (+/-0.072) for {'alpha': 10, 'max_depth': 4, 'n_estimators': 5}\n",
      "0.041 (+/-0.063) for {'alpha': 10, 'max_depth': 4, 'n_estimators': 10}\n",
      "0.487 (+/-0.065) for {'alpha': 10, 'max_depth': 4, 'n_estimators': 50}\n",
      "0.491 (+/-0.073) for {'alpha': 10, 'max_depth': 4, 'n_estimators': 100}\n",
      "-0.687 (+/-0.065) for {'alpha': 10, 'max_depth': 5, 'n_estimators': 5}\n",
      "0.059 (+/-0.061) for {'alpha': 10, 'max_depth': 5, 'n_estimators': 10}\n",
      "0.495 (+/-0.075) for {'alpha': 10, 'max_depth': 5, 'n_estimators': 50}\n",
      "0.496 (+/-0.072) for {'alpha': 10, 'max_depth': 5, 'n_estimators': 100}\n",
      "-0.757 (+/-0.087) for {'alpha': 15, 'max_depth': 1, 'n_estimators': 5}\n",
      "-0.049 (+/-0.066) for {'alpha': 15, 'max_depth': 1, 'n_estimators': 10}\n",
      "0.393 (+/-0.041) for {'alpha': 15, 'max_depth': 1, 'n_estimators': 50}\n",
      "0.423 (+/-0.049) for {'alpha': 15, 'max_depth': 1, 'n_estimators': 100}\n",
      "-0.715 (+/-0.078) for {'alpha': 15, 'max_depth': 3, 'n_estimators': 5}\n",
      "0.017 (+/-0.064) for {'alpha': 15, 'max_depth': 3, 'n_estimators': 10}\n",
      "0.464 (+/-0.064) for {'alpha': 15, 'max_depth': 3, 'n_estimators': 50}\n",
      "0.48 (+/-0.066) for {'alpha': 15, 'max_depth': 3, 'n_estimators': 100}\n",
      "-0.696 (+/-0.072) for {'alpha': 15, 'max_depth': 4, 'n_estimators': 5}\n",
      "0.041 (+/-0.063) for {'alpha': 15, 'max_depth': 4, 'n_estimators': 10}\n",
      "0.487 (+/-0.065) for {'alpha': 15, 'max_depth': 4, 'n_estimators': 50}\n",
      "0.491 (+/-0.073) for {'alpha': 15, 'max_depth': 4, 'n_estimators': 100}\n",
      "-0.687 (+/-0.065) for {'alpha': 15, 'max_depth': 5, 'n_estimators': 5}\n",
      "0.059 (+/-0.061) for {'alpha': 15, 'max_depth': 5, 'n_estimators': 10}\n",
      "0.495 (+/-0.075) for {'alpha': 15, 'max_depth': 5, 'n_estimators': 50}\n",
      "0.496 (+/-0.072) for {'alpha': 15, 'max_depth': 5, 'n_estimators': 100}\n",
      "-0.757 (+/-0.087) for {'alpha': 20, 'max_depth': 1, 'n_estimators': 5}\n",
      "-0.049 (+/-0.066) for {'alpha': 20, 'max_depth': 1, 'n_estimators': 10}\n",
      "0.393 (+/-0.041) for {'alpha': 20, 'max_depth': 1, 'n_estimators': 50}\n",
      "0.423 (+/-0.049) for {'alpha': 20, 'max_depth': 1, 'n_estimators': 100}\n",
      "-0.715 (+/-0.078) for {'alpha': 20, 'max_depth': 3, 'n_estimators': 5}\n",
      "0.017 (+/-0.064) for {'alpha': 20, 'max_depth': 3, 'n_estimators': 10}\n",
      "0.464 (+/-0.064) for {'alpha': 20, 'max_depth': 3, 'n_estimators': 50}\n",
      "0.48 (+/-0.066) for {'alpha': 20, 'max_depth': 3, 'n_estimators': 100}\n",
      "-0.696 (+/-0.072) for {'alpha': 20, 'max_depth': 4, 'n_estimators': 5}\n",
      "0.041 (+/-0.063) for {'alpha': 20, 'max_depth': 4, 'n_estimators': 10}\n",
      "0.487 (+/-0.065) for {'alpha': 20, 'max_depth': 4, 'n_estimators': 50}\n",
      "0.491 (+/-0.073) for {'alpha': 20, 'max_depth': 4, 'n_estimators': 100}\n",
      "-0.687 (+/-0.065) for {'alpha': 20, 'max_depth': 5, 'n_estimators': 5}\n",
      "0.059 (+/-0.061) for {'alpha': 20, 'max_depth': 5, 'n_estimators': 10}\n",
      "0.495 (+/-0.075) for {'alpha': 20, 'max_depth': 5, 'n_estimators': 50}\n",
      "0.496 (+/-0.072) for {'alpha': 20, 'max_depth': 5, 'n_estimators': 100}\n"
     ]
    }
   ],
   "source": [
    "# Using 5 K-folds cross-validation, we will use GridSearchCV to tune the max_depth and alpha parameters for the XGBoost model\n",
    "from xgboost import XGBRegressor\n",
    "xg_regress = XGBRegressor(default = 'reg:squarederror')\n",
    "parameters = {\n",
    "    'max_depth': [1, 3, 4, 5],\n",
    "    'alpha': [5, 10, 15, 20],\n",
    "    'n_estimators': [5, 10, 50, 100]\n",
    "}\n",
    "\n",
    "cv = GridSearchCV(xg_regress, parameters, cv=5)\n",
    "cv.fit(tr_features_airbnb,tr_labels_airbnb.values.ravel())\n",
    "\n",
    "print_results(cv)"
   ]
  },
  {
   "cell_type": "code",
   "execution_count": 108,
   "metadata": {},
   "outputs": [
    {
     "name": "stdout",
     "output_type": "stream",
     "text": [
      "XGBR training R^2 is:  0.49054286377640355\n",
      "XGBR validation R^2 is:  0.4667726201912521\n"
     ]
    }
   ],
   "source": [
    "print('XGBR training R^2 is: ',cv.score(tr_features_airbnb,tr_labels_airbnb))\n",
    "print('XGBR validation R^2 is: ',cv.score(val_features_airbnb,val_labels_airbnb))"
   ]
  },
  {
   "cell_type": "code",
   "execution_count": 109,
   "metadata": {},
   "outputs": [
    {
     "name": "stdout",
     "output_type": "stream",
     "text": [
      "[20:19:58] WARNING: src/objective/regression_obj.cu:152: reg:linear is now deprecated in favor of reg:squarederror.\n",
      "[20:19:58] WARNING: src/objective/regression_obj.cu:152: reg:linear is now deprecated in favor of reg:squarederror.\n",
      "[20:19:58] WARNING: src/objective/regression_obj.cu:152: reg:linear is now deprecated in favor of reg:squarederror.\n",
      "[20:19:58] WARNING: src/objective/regression_obj.cu:152: reg:linear is now deprecated in favor of reg:squarederror.\n",
      "[20:19:58] WARNING: src/objective/regression_obj.cu:152: reg:linear is now deprecated in favor of reg:squarederror.\n",
      "[20:19:58] WARNING: src/objective/regression_obj.cu:152: reg:linear is now deprecated in favor of reg:squarederror.\n",
      "XGBoost Regressor (XGBR) training accuracy is:  0.7471057635181817\n",
      "XGBoost Regressor (XGBR) testing accuracy is:  0.5338254234241131\n"
     ]
    }
   ],
   "source": [
    "parameters = {\n",
    "    'max_depth': [5],\n",
    "    'alpha': [5],\n",
    "    'n_estimators': [100],\n",
    "    'learning_rate': [0.15]\n",
    "    \n",
    "}\n",
    "\n",
    "cv = GridSearchCV(xg_regress, parameters, cv=5)\n",
    "cv.fit(tr_features_airbnb,tr_labels_airbnb.values.ravel())\n",
    "\n",
    "print('XGBoost Regressor (XGBR) training accuracy is: ',cv.score(tr_features_airbnb,tr_labels_airbnb))\n",
    "print('XGBoost Regressor (XGBR) testing accuracy is: ',cv.score(test_features_airbnb,test_labels_airbnb))"
   ]
  },
  {
   "cell_type": "markdown",
   "metadata": {},
   "source": [
    "Setting the learning_rate hyperparameter to 0.15 boosted the R^2 score "
   ]
  },
  {
   "cell_type": "code",
   "execution_count": 110,
   "metadata": {},
   "outputs": [
    {
     "name": "stdout",
     "output_type": "stream",
     "text": [
      "XGBR training MAE is:  31.77217324613274\n",
      "XGBR testing MAE is:  43.27156731929571\n"
     ]
    }
   ],
   "source": [
    "print('XGBR training MAE is: ', mean_absolute_error(cv.predict(tr_features_airbnb), tr_labels_airbnb))\n",
    "print('XGBR testing MAE is: ', mean_absolute_error(cv.predict(test_features_airbnb), test_labels_airbnb))"
   ]
  },
  {
   "cell_type": "code",
   "execution_count": 111,
   "metadata": {},
   "outputs": [
    {
     "name": "stdout",
     "output_type": "stream",
     "text": [
      "XGBR training RMSE is:  43.9936578898209\n",
      "XGBR testing RMSE is:  59.51234829709751\n"
     ]
    }
   ],
   "source": [
    "print('XGBR training RMSE is: ', np.sqrt(mean_squared_error(cv.predict(tr_features_airbnb), tr_labels_airbnb)))\n",
    "print('XGBR testing RMSE is: ', np.sqrt(mean_squared_error(cv.predict(test_features_airbnb), test_labels_airbnb)))"
   ]
  },
  {
   "cell_type": "markdown",
   "metadata": {},
   "source": [
    "#### 2.3.3 Multilayer Perceptron (Artificial Neural Network) for the Airbnb Singapore dataset"
   ]
  },
  {
   "cell_type": "code",
   "execution_count": 112,
   "metadata": {},
   "outputs": [
    {
     "name": "stdout",
     "output_type": "stream",
     "text": [
      "Best Parameters: {'activation': 'tanh', 'hidden_layer_sizes': (100,), 'learning_rate': 'adaptive'}\n",
      "\n",
      "0.42 (+/-0.055) for {'activation': 'relu', 'hidden_layer_sizes': (5,), 'learning_rate': 'constant'}\n",
      "0.425 (+/-0.065) for {'activation': 'relu', 'hidden_layer_sizes': (5,), 'learning_rate': 'invscaling'}\n",
      "0.421 (+/-0.061) for {'activation': 'relu', 'hidden_layer_sizes': (5,), 'learning_rate': 'adaptive'}\n",
      "0.432 (+/-0.061) for {'activation': 'relu', 'hidden_layer_sizes': (10,), 'learning_rate': 'constant'}\n",
      "0.425 (+/-0.059) for {'activation': 'relu', 'hidden_layer_sizes': (10,), 'learning_rate': 'invscaling'}\n",
      "0.425 (+/-0.056) for {'activation': 'relu', 'hidden_layer_sizes': (10,), 'learning_rate': 'adaptive'}\n",
      "0.428 (+/-0.071) for {'activation': 'relu', 'hidden_layer_sizes': (50,), 'learning_rate': 'constant'}\n",
      "0.422 (+/-0.055) for {'activation': 'relu', 'hidden_layer_sizes': (50,), 'learning_rate': 'invscaling'}\n",
      "0.431 (+/-0.064) for {'activation': 'relu', 'hidden_layer_sizes': (50,), 'learning_rate': 'adaptive'}\n",
      "0.43 (+/-0.058) for {'activation': 'relu', 'hidden_layer_sizes': (100,), 'learning_rate': 'constant'}\n",
      "0.43 (+/-0.063) for {'activation': 'relu', 'hidden_layer_sizes': (100,), 'learning_rate': 'invscaling'}\n",
      "0.435 (+/-0.053) for {'activation': 'relu', 'hidden_layer_sizes': (100,), 'learning_rate': 'adaptive'}\n",
      "0.397 (+/-0.026) for {'activation': 'tanh', 'hidden_layer_sizes': (5,), 'learning_rate': 'constant'}\n",
      "0.406 (+/-0.033) for {'activation': 'tanh', 'hidden_layer_sizes': (5,), 'learning_rate': 'invscaling'}\n",
      "0.408 (+/-0.044) for {'activation': 'tanh', 'hidden_layer_sizes': (5,), 'learning_rate': 'adaptive'}\n",
      "0.422 (+/-0.038) for {'activation': 'tanh', 'hidden_layer_sizes': (10,), 'learning_rate': 'constant'}\n",
      "0.415 (+/-0.059) for {'activation': 'tanh', 'hidden_layer_sizes': (10,), 'learning_rate': 'invscaling'}\n",
      "0.422 (+/-0.037) for {'activation': 'tanh', 'hidden_layer_sizes': (10,), 'learning_rate': 'adaptive'}\n",
      "0.444 (+/-0.044) for {'activation': 'tanh', 'hidden_layer_sizes': (50,), 'learning_rate': 'constant'}\n",
      "0.447 (+/-0.034) for {'activation': 'tanh', 'hidden_layer_sizes': (50,), 'learning_rate': 'invscaling'}\n",
      "0.448 (+/-0.046) for {'activation': 'tanh', 'hidden_layer_sizes': (50,), 'learning_rate': 'adaptive'}\n",
      "0.452 (+/-0.037) for {'activation': 'tanh', 'hidden_layer_sizes': (100,), 'learning_rate': 'constant'}\n",
      "0.455 (+/-0.036) for {'activation': 'tanh', 'hidden_layer_sizes': (100,), 'learning_rate': 'invscaling'}\n",
      "0.459 (+/-0.045) for {'activation': 'tanh', 'hidden_layer_sizes': (100,), 'learning_rate': 'adaptive'}\n",
      "0.421 (+/-0.063) for {'activation': 'identity', 'hidden_layer_sizes': (5,), 'learning_rate': 'constant'}\n",
      "0.42 (+/-0.061) for {'activation': 'identity', 'hidden_layer_sizes': (5,), 'learning_rate': 'invscaling'}\n",
      "0.42 (+/-0.057) for {'activation': 'identity', 'hidden_layer_sizes': (5,), 'learning_rate': 'adaptive'}\n",
      "0.42 (+/-0.057) for {'activation': 'identity', 'hidden_layer_sizes': (10,), 'learning_rate': 'constant'}\n",
      "0.42 (+/-0.064) for {'activation': 'identity', 'hidden_layer_sizes': (10,), 'learning_rate': 'invscaling'}\n",
      "0.421 (+/-0.061) for {'activation': 'identity', 'hidden_layer_sizes': (10,), 'learning_rate': 'adaptive'}\n",
      "0.416 (+/-0.057) for {'activation': 'identity', 'hidden_layer_sizes': (50,), 'learning_rate': 'constant'}\n",
      "0.42 (+/-0.055) for {'activation': 'identity', 'hidden_layer_sizes': (50,), 'learning_rate': 'invscaling'}\n",
      "0.418 (+/-0.064) for {'activation': 'identity', 'hidden_layer_sizes': (50,), 'learning_rate': 'adaptive'}\n",
      "0.41 (+/-0.044) for {'activation': 'identity', 'hidden_layer_sizes': (100,), 'learning_rate': 'constant'}\n",
      "0.412 (+/-0.067) for {'activation': 'identity', 'hidden_layer_sizes': (100,), 'learning_rate': 'invscaling'}\n",
      "0.415 (+/-0.067) for {'activation': 'identity', 'hidden_layer_sizes': (100,), 'learning_rate': 'adaptive'}\n"
     ]
    }
   ],
   "source": [
    "from sklearn.neural_network import MLPRegressor\n",
    "\n",
    "MLP = MLPRegressor(max_iter = 6000)\n",
    "parameters = {\n",
    "    'hidden_layer_sizes': [(5,), (10,), (50,), (100,)],\n",
    "    'activation': ['relu', 'tanh', 'identity'],\n",
    "    'learning_rate': ['constant','invscaling', 'adaptive']\n",
    "}\n",
    "\n",
    "cv = GridSearchCV(MLP, parameters, cv=5)\n",
    "cv.fit(tr_features_airbnb,tr_labels_airbnb.values.ravel())\n",
    "\n",
    "print_results(cv)"
   ]
  },
  {
   "cell_type": "code",
   "execution_count": 113,
   "metadata": {},
   "outputs": [
    {
     "name": "stdout",
     "output_type": "stream",
     "text": [
      "MLP training accuracy is:  0.5040912792381919\n",
      "MLP validation accuracy is:  0.4714194375333749\n"
     ]
    }
   ],
   "source": [
    "print('MLP training R^2 is: ',cv.score(tr_features_airbnb,tr_labels_airbnb))\n",
    "print('MLP validation R^2 is: ',cv.score(val_features_airbnb,val_labels_airbnb))"
   ]
  },
  {
   "cell_type": "code",
   "execution_count": 114,
   "metadata": {},
   "outputs": [
    {
     "name": "stdout",
     "output_type": "stream",
     "text": [
      "MLP training R^2 is:  0.4942870809798547\n",
      "MLP testing R^2 is:  0.4768001564697157\n"
     ]
    }
   ],
   "source": [
    "parameters = {\n",
    "    'hidden_layer_sizes': [(100,)],\n",
    "    'activation': ['tanh'],\n",
    "    'learning_rate': ['constant'],\n",
    "    'alpha': [0.008]\n",
    "}\n",
    "\n",
    "cv = GridSearchCV(MLP, parameters, cv=5)\n",
    "cv.fit(tr_features_airbnb,tr_labels_airbnb.values.ravel())\n",
    "\n",
    "print('MLP training R^2 is: ',cv.score(tr_features_airbnb,tr_labels_airbnb))\n",
    "print('MLP testing R^2 is: ',cv.score(test_features_airbnb,test_labels_airbnb))"
   ]
  },
  {
   "cell_type": "markdown",
   "metadata": {},
   "source": [
    "Tuning the alpha hyperparameter marginally improves the model's R^2 score but which still remains low at <0.50 (worse than the flip of a coin)."
   ]
  },
  {
   "cell_type": "code",
   "execution_count": 115,
   "metadata": {},
   "outputs": [
    {
     "name": "stdout",
     "output_type": "stream",
     "text": [
      "MLP training MAE is:  46.92456864429583\n",
      "MLP testing MAE is:  47.32946510062326\n"
     ]
    }
   ],
   "source": [
    "print('MLP training MAE is: ', mean_absolute_error(cv.predict(tr_features_airbnb), tr_labels_airbnb))\n",
    "print('MLP testing MAE is: ', mean_absolute_error(cv.predict(test_features_airbnb), test_labels_airbnb))"
   ]
  },
  {
   "cell_type": "code",
   "execution_count": 116,
   "metadata": {},
   "outputs": [
    {
     "name": "stdout",
     "output_type": "stream",
     "text": [
      "MLP training RMSE is:  62.21178057308336\n",
      "MLP testing RMSE is:  63.04731523972242\n"
     ]
    }
   ],
   "source": [
    "print('MLP training RMSE is: ', np.sqrt(mean_squared_error(cv.predict(tr_features_airbnb), tr_labels_airbnb)))\n",
    "print('MLP testing RMSE is: ', np.sqrt(mean_squared_error(cv.predict(test_features_airbnb), test_labels_airbnb)))"
   ]
  },
  {
   "cell_type": "markdown",
   "metadata": {},
   "source": [
    "Despite MLP being a class of feedforward Artificial Neural Network (ANN), which is known to be a powerful predictive algorithm (if somewhat of a black box in terms of interpretability), it was actually the worst performer of all the models for our dataset."
   ]
  },
  {
   "cell_type": "markdown",
   "metadata": {},
   "source": [
    "[Back to Top ^](#airbnb_header)"
   ]
  },
  {
   "cell_type": "markdown",
   "metadata": {},
   "source": [
    "### 2.4 Create an Ensemble Model and Evaluate <a id='evaluate2' /> "
   ]
  },
  {
   "cell_type": "markdown",
   "metadata": {},
   "source": [
    "#### Ensemble Model built using Random Forest, XGBoost Regressor and Multilayer Perceptron for Airbnb Singapore dataset"
   ]
  },
  {
   "cell_type": "code",
   "execution_count": 117,
   "metadata": {},
   "outputs": [],
   "source": [
    "# Voting Classifier - Multiple Ensemble Model\n",
    "from sklearn.ensemble import VotingRegressor\n",
    "\n",
    "rf = RandomForestRegressor(n_estimators=500, max_depth = 16, min_samples_leaf = 7)\n",
    "xg_regress = XGBRegressor(default = 'reg:squarederror', max_depth = 5, alpha = 5, n_estimators = 50, learning_rate = 0.15)\n",
    "MLP = MLPRegressor(max_iter = 6000, activation = 'tanh', hidden_layer_sizes = (100,), learning_rate = 'constant', alpha = 0.008)"
   ]
  },
  {
   "cell_type": "code",
   "execution_count": 118,
   "metadata": {},
   "outputs": [],
   "source": [
    "evr = VotingRegressor([('rf',rf),('xg_regress',xg_regress),('MLP',MLP)])"
   ]
  },
  {
   "cell_type": "code",
   "execution_count": 119,
   "metadata": {},
   "outputs": [
    {
     "name": "stdout",
     "output_type": "stream",
     "text": [
      "[20:29:25] WARNING: src/objective/regression_obj.cu:152: reg:linear is now deprecated in favor of reg:squarederror.\n",
      "EVR training R^2 is 0.6337532353446069\n",
      "EVR testing R^2 is 0.5279703652015575\n"
     ]
    }
   ],
   "source": [
    "evr.fit(tr_features_airbnb, tr_labels_airbnb.values.ravel())\n",
    "print('EVR training R^2 is', evr.score(tr_features_airbnb, tr_labels_airbnb.values.ravel()))\n",
    "print('EVR testing R^2 is', evr.score(val_features_airbnb, val_labels_airbnb.values.ravel()))"
   ]
  },
  {
   "cell_type": "code",
   "execution_count": 120,
   "metadata": {},
   "outputs": [
    {
     "name": "stdout",
     "output_type": "stream",
     "text": [
      "EVR training MAE is:  46.92456864429583\n",
      "EVR testing MAE is:  47.32946510062326\n"
     ]
    }
   ],
   "source": [
    "print('EVR training MAE is: ', mean_absolute_error(cv.predict(tr_features_airbnb), tr_labels_airbnb))\n",
    "print('EVR testing MAE is: ', mean_absolute_error(cv.predict(test_features_airbnb), test_labels_airbnb))"
   ]
  },
  {
   "cell_type": "code",
   "execution_count": 121,
   "metadata": {},
   "outputs": [
    {
     "name": "stdout",
     "output_type": "stream",
     "text": [
      "EVR training RMSE is:  62.21178057308336\n",
      "EVR testing RMSE is:  63.04731523972242\n"
     ]
    }
   ],
   "source": [
    "print('EVR training RMSE is: ', np.sqrt(mean_squared_error(cv.predict(tr_features_airbnb), tr_labels_airbnb)))\n",
    "print('EVR testing RMSE is: ', np.sqrt(mean_squared_error(cv.predict(test_features_airbnb), test_labels_airbnb)))"
   ]
  },
  {
   "cell_type": "markdown",
   "metadata": {},
   "source": [
    "The EVR model failed to produce a better overall R^2, MAE and RMSE score despite being a combined model of all three."
   ]
  },
  {
   "cell_type": "markdown",
   "metadata": {},
   "source": [
    "[Back to Top ^](#airbnb_header)"
   ]
  },
  {
   "cell_type": "markdown",
   "metadata": {},
   "source": [
    "### 2.5 Summary <a id='summary2' /> "
   ]
  },
  {
   "cell_type": "markdown",
   "metadata": {},
   "source": [
    "1. The Random Forest Regressor had the highest testing R^2 score at 0.5452, with the lowest MAE and RMSE - 42.688 and 58.780, respectively.\n",
    "2. Overall, all models posted low testing accuracies, likely due to the limited dataset size (>40% of the dataset was removed during data cleanup) and messy data.\n",
    "3. Model accuracy may be increased by using a larger dataset and focusing the data on one or two specific data categories such as room type or location.\n",
    "4. Obtaining more features - like ratings (on a 5-point scale) or whether a host has SuperHost status (an Airbnb badge to distinguish hosts with exceptional service standards)  - might also be another way to improve model accuracy. "
   ]
  },
  {
   "cell_type": "markdown",
   "metadata": {},
   "source": [
    "[Back to Top ^](#airbnb_header)"
   ]
  }
 ],
 "metadata": {
  "kernelspec": {
   "display_name": "Python 3",
   "language": "python",
   "name": "python3"
  },
  "language_info": {
   "codemirror_mode": {
    "name": "ipython",
    "version": 3
   },
   "file_extension": ".py",
   "mimetype": "text/x-python",
   "name": "python",
   "nbconvert_exporter": "python",
   "pygments_lexer": "ipython3",
   "version": "3.8.5"
  }
 },
 "nbformat": 4,
 "nbformat_minor": 2
}
